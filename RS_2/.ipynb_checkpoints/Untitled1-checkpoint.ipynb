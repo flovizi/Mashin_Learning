{
 "cells": [
  {
   "cell_type": "code",
   "execution_count": null,
   "metadata": {},
   "outputs": [],
   "source": []
  },
  {
   "cell_type": "code",
   "execution_count": null,
   "metadata": {},
   "outputs": [],
   "source": []
  },
  {
   "cell_type": "code",
   "execution_count": null,
   "metadata": {},
   "outputs": [],
   "source": []
  },
  {
   "cell_type": "code",
   "execution_count": null,
   "metadata": {},
   "outputs": [],
   "source": []
  },
  {
   "cell_type": "code",
   "execution_count": 7,
   "metadata": {},
   "outputs": [],
   "source": [
    "algoritms = [SVD(), SVDpp(), SlopeOne(), NMF(), NormalPredictor(), KNNBaseline(), KNNBasic(), \n",
    "             KNNWithMeans(), KNNWithZScore(), BaselineOnly(), CoClustering()] "
   ]
  },
  {
   "cell_type": "code",
   "execution_count": 15,
   "metadata": {
    "scrolled": true
   },
   "outputs": [
    {
     "name": "stdout",
     "output_type": "stream",
     "text": [
      "<surprise.prediction_algorithms.matrix_factorization.SVD object at 0x000001F6891DDD90>\n",
      "0.8958264505842107\n",
      "_____________\n",
      "\n",
      "<surprise.prediction_algorithms.matrix_factorization.SVDpp object at 0x000001F6891DDDF0>\n",
      "0.8906118054323654\n",
      "_____________\n",
      "\n",
      "<surprise.prediction_algorithms.slope_one.SlopeOne object at 0x000001F6891DD7F0>\n",
      "0.9370890707735675\n",
      "_____________\n",
      "\n",
      "<surprise.prediction_algorithms.matrix_factorization.NMF object at 0x000001F6891DD910>\n",
      "0.9647684792421425\n",
      "_____________\n",
      "\n",
      "<surprise.prediction_algorithms.random_pred.NormalPredictor object at 0x000001F6891DDB20>\n",
      "1.4332888040777563\n",
      "_____________\n",
      "\n",
      "<surprise.prediction_algorithms.knns.KNNBaseline object at 0x000001F6891DD880>\n",
      "Estimating biases using als...\n",
      "Computing the msd similarity matrix...\n",
      "Done computing similarity matrix.\n",
      "Estimating biases using als...\n",
      "Computing the msd similarity matrix...\n",
      "Done computing similarity matrix.\n",
      "Estimating biases using als...\n",
      "Computing the msd similarity matrix...\n",
      "Done computing similarity matrix.\n",
      "Estimating biases using als...\n",
      "Computing the msd similarity matrix...\n",
      "Done computing similarity matrix.\n",
      "Estimating biases using als...\n",
      "Computing the msd similarity matrix...\n",
      "Done computing similarity matrix.\n",
      "0.9069493364686796\n",
      "_____________\n",
      "\n",
      "<surprise.prediction_algorithms.knns.KNNBasic object at 0x000001F6C5B0D850>\n",
      "Computing the msd similarity matrix...\n",
      "Done computing similarity matrix.\n",
      "Computing the msd similarity matrix...\n",
      "Done computing similarity matrix.\n",
      "Computing the msd similarity matrix...\n",
      "Done computing similarity matrix.\n",
      "Computing the msd similarity matrix...\n",
      "Done computing similarity matrix.\n",
      "Computing the msd similarity matrix...\n",
      "Done computing similarity matrix.\n",
      "0.9928246752398273\n",
      "_____________\n",
      "\n",
      "<surprise.prediction_algorithms.knns.KNNWithMeans object at 0x000001F6C5B0D910>\n",
      "Computing the msd similarity matrix...\n",
      "Done computing similarity matrix.\n",
      "Computing the msd similarity matrix...\n",
      "Done computing similarity matrix.\n",
      "Computing the msd similarity matrix...\n",
      "Done computing similarity matrix.\n",
      "Computing the msd similarity matrix...\n",
      "Done computing similarity matrix.\n",
      "Computing the msd similarity matrix...\n",
      "Done computing similarity matrix.\n",
      "0.9270377124070223\n",
      "_____________\n",
      "\n",
      "<surprise.prediction_algorithms.knns.KNNWithZScore object at 0x000001F6C5B0D400>\n",
      "Computing the msd similarity matrix...\n",
      "Done computing similarity matrix.\n",
      "Computing the msd similarity matrix...\n",
      "Done computing similarity matrix.\n",
      "Computing the msd similarity matrix...\n",
      "Done computing similarity matrix.\n",
      "Computing the msd similarity matrix...\n",
      "Done computing similarity matrix.\n",
      "Computing the msd similarity matrix...\n",
      "Done computing similarity matrix.\n",
      "0.9272676891620332\n",
      "_____________\n",
      "\n",
      "<surprise.prediction_algorithms.baseline_only.BaselineOnly object at 0x000001F689E6F070>\n",
      "Estimating biases using als...\n",
      "Estimating biases using als...\n",
      "Estimating biases using als...\n",
      "Estimating biases using als...\n",
      "Estimating biases using als...\n",
      "0.8886587698676898\n",
      "_____________\n",
      "\n",
      "<surprise.prediction_algorithms.co_clustering.CoClustering object at 0x000001F689E6F0D0>\n",
      "0.9797703912291487\n",
      "_____________\n",
      "\n"
     ]
    }
   ],
   "source": [
    "for algoritm in algoritms:\n",
    "    print(algoritm)\n",
    "    print(cross_validate(algoritm, data, measures=['RMSE'], cv=5, verbose=False)['test_rmse'].mean())\n",
    "    print('_____________')\n",
    "    print()"
   ]
  },
  {
   "cell_type": "markdown",
   "metadata": {},
   "source": [
    "<surprise.prediction_algorithms.matrix_factorization.SVD object at 0x000001F6891DDD90>\n",
    "0.8958264505842107\n",
    "_____________\n",
    "\n",
    "<surprise.prediction_algorithms.matrix_factorization.SVDpp object at 0x000001F6891DDDF0>\n",
    "0.8906118054323654\n",
    "_____________\n",
    "\n",
    "<surprise.prediction_algorithms.slope_one.SlopeOne object at 0x000001F6891DD7F0>\n",
    "0.9370890707735675\n",
    "_____________\n",
    "\n",
    "<surprise.prediction_algorithms.matrix_factorization.NMF object at 0x000001F6891DD910>\n",
    "0.9647684792421425\n",
    "_____________\n",
    "\n",
    "<surprise.prediction_algorithms.random_pred.NormalPredictor object at 0x000001F6891DDB20>\n",
    "1.4332888040777563\n",
    "_____________\n",
    "\n",
    "<surprise.prediction_algorithms.knns.KNNBaseline object at 0x000001F6891DD880>\n",
    "Estimating biases using als...\n",
    "Computing the msd similarity matrix...\n",
    "Done computing similarity matrix.\n",
    "Estimating biases using als...\n",
    "Computing the msd similarity matrix...\n",
    "Done computing similarity matrix.\n",
    "Estimating biases using als...\n",
    "Computing the msd similarity matrix...\n",
    "Done computing similarity matrix.\n",
    "Estimating biases using als...\n",
    "Computing the msd similarity matrix...\n",
    "Done computing similarity matrix.\n",
    "Estimating biases using als...\n",
    "Computing the msd similarity matrix...\n",
    "Done computing similarity matrix.\n",
    "0.9069493364686796\n",
    "_____________\n",
    "\n",
    "<surprise.prediction_algorithms.knns.KNNBasic object at 0x000001F6C5B0D850>\n",
    "Computing the msd similarity matrix...\n",
    "Done computing similarity matrix.\n",
    "Computing the msd similarity matrix...\n",
    "Done computing similarity matrix.\n",
    "Computing the msd similarity matrix...\n",
    "Done computing similarity matrix.\n",
    "Computing the msd similarity matrix...\n",
    "Done computing similarity matrix.\n",
    "Computing the msd similarity matrix...\n",
    "Done computing similarity matrix.\n",
    "0.9928246752398273\n",
    "_____________\n",
    "\n",
    "<surprise.prediction_algorithms.knns.KNNWithMeans object at 0x000001F6C5B0D910>\n",
    "Computing the msd similarity matrix...\n",
    "Done computing similarity matrix.\n",
    "Computing the msd similarity matrix...\n",
    "Done computing similarity matrix.\n",
    "Computing the msd similarity matrix...\n",
    "Done computing similarity matrix.\n",
    "Computing the msd similarity matrix...\n",
    "Done computing similarity matrix.\n",
    "Computing the msd similarity matrix...\n",
    "Done computing similarity matrix.\n",
    "0.9270377124070223\n",
    "_____________\n",
    "\n",
    "<surprise.prediction_algorithms.knns.KNNWithZScore object at 0x000001F6C5B0D400>\n",
    "Computing the msd similarity matrix...\n",
    "Done computing similarity matrix.\n",
    "Computing the msd similarity matrix...\n",
    "Done computing similarity matrix.\n",
    "Computing the msd similarity matrix...\n",
    "Done computing similarity matrix.\n",
    "Computing the msd similarity matrix...\n",
    "Done computing similarity matrix.\n",
    "Computing the msd similarity matrix...\n",
    "Done computing similarity matrix.\n",
    "0.9272676891620332\n",
    "_____________\n",
    "\n",
    "<surprise.prediction_algorithms.baseline_only.BaselineOnly object at 0x000001F689E6F070>\n",
    "Estimating biases using als...\n",
    "Estimating biases using als...\n",
    "Estimating biases using als...\n",
    "Estimating biases using als...\n",
    "Estimating biases using als...\n",
    "0.8886587698676898\n",
    "_____________\n",
    "\n",
    "<surprise.prediction_algorithms.co_clustering.CoClustering object at 0x000001F689E6F0D0>\n",
    "0.9797703912291487\n",
    "_____________\n"
   ]
  },
  {
   "cell_type": "markdown",
   "metadata": {},
   "source": [
    "Лучше себя показали алгоритмы SVD, SVDpp, BaselineOnly (до 0.90)"
   ]
  },
  {
   "cell_type": "code",
   "execution_count": 80,
   "metadata": {},
   "outputs": [],
   "source": [
    "# Use movielens-100K\n",
    "data2 = Dataset.load_builtin('ml-100k')"
   ]
  },
  {
   "cell_type": "markdown",
   "metadata": {},
   "source": [
    "##### KNNWithMeans"
   ]
  },
  {
   "cell_type": "code",
   "execution_count": 106,
   "metadata": {
    "scrolled": true
   },
   "outputs": [
    {
     "ename": "KeyboardInterrupt",
     "evalue": "",
     "output_type": "error",
     "traceback": [
      "\u001b[1;31m---------------------------------------------------------------------------\u001b[0m",
      "\u001b[1;31mKeyboardInterrupt\u001b[0m                         Traceback (most recent call last)",
      "\u001b[1;32m<ipython-input-106-b8d84f4d7d0d>\u001b[0m in \u001b[0;36m<module>\u001b[1;34m\u001b[0m\n\u001b[0;32m     19\u001b[0m \u001b[0mcv\u001b[0m \u001b[1;33m=\u001b[0m \u001b[0mShuffleSplit\u001b[0m\u001b[1;33m(\u001b[0m\u001b[0mn_splits\u001b[0m\u001b[1;33m=\u001b[0m\u001b[1;36m5\u001b[0m\u001b[1;33m,\u001b[0m \u001b[0mtest_size\u001b[0m\u001b[1;33m=\u001b[0m\u001b[1;36m0.3\u001b[0m\u001b[1;33m,\u001b[0m \u001b[0mrandom_state\u001b[0m\u001b[1;33m=\u001b[0m\u001b[1;36m0\u001b[0m\u001b[1;33m)\u001b[0m\u001b[1;33m\u001b[0m\u001b[1;33m\u001b[0m\u001b[0m\n\u001b[0;32m     20\u001b[0m \u001b[0mgs\u001b[0m \u001b[1;33m=\u001b[0m \u001b[0mGridSearchCV\u001b[0m\u001b[1;33m(\u001b[0m\u001b[0mKNNWithMeans\u001b[0m\u001b[1;33m,\u001b[0m \u001b[0mparam_grid\u001b[0m\u001b[1;33m=\u001b[0m\u001b[0mgrid_params\u001b[0m\u001b[1;33m,\u001b[0m \u001b[0mcv\u001b[0m\u001b[1;33m=\u001b[0m\u001b[0mcv\u001b[0m\u001b[1;33m,\u001b[0m \u001b[0mmeasures\u001b[0m \u001b[1;33m=\u001b[0m\u001b[1;33m[\u001b[0m\u001b[1;34m'rmse'\u001b[0m\u001b[1;33m,\u001b[0m \u001b[1;34m'mae'\u001b[0m\u001b[1;33m]\u001b[0m\u001b[1;33m,\u001b[0m \u001b[0mn_jobs\u001b[0m\u001b[1;33m=\u001b[0m\u001b[1;33m-\u001b[0m\u001b[1;36m1\u001b[0m\u001b[1;33m)\u001b[0m  \u001b[1;31m#measures, sizes\u001b[0m\u001b[1;33m\u001b[0m\u001b[1;33m\u001b[0m\u001b[0m\n\u001b[1;32m---> 21\u001b[1;33m \u001b[0mtqdm\u001b[0m\u001b[1;33m(\u001b[0m\u001b[0mgs\u001b[0m\u001b[1;33m.\u001b[0m\u001b[0mfit\u001b[0m\u001b[1;33m(\u001b[0m\u001b[0mdata2\u001b[0m\u001b[1;33m)\u001b[0m\u001b[1;33m)\u001b[0m\u001b[1;33m\u001b[0m\u001b[1;33m\u001b[0m\u001b[0m\n\u001b[0m\u001b[0;32m     22\u001b[0m \u001b[1;31m#cross_validate(gs, trainset, measures=['rmse', 'mae'], cv=cv, verbose=False, n_jobs=-1)\u001b[0m\u001b[1;33m\u001b[0m\u001b[1;33m\u001b[0m\u001b[1;33m\u001b[0m\u001b[0m\n\u001b[0;32m     23\u001b[0m \u001b[1;31m#gs.best_score['RMSE'], gs.best_params['rmse'], grid.best_params_  # best_params_\u001b[0m\u001b[1;33m\u001b[0m\u001b[1;33m\u001b[0m\u001b[1;33m\u001b[0m\u001b[0m\n",
      "\u001b[1;32mC:\\ProgramData\\Anaconda3\\lib\\site-packages\\surprise\\model_selection\\search.py\u001b[0m in \u001b[0;36mfit\u001b[1;34m(self, data)\u001b[0m\n\u001b[0;32m     86\u001b[0m                                                        cv.split(data))\n\u001b[0;32m     87\u001b[0m         )\n\u001b[1;32m---> 88\u001b[1;33m         out = Parallel(n_jobs=self.n_jobs,\n\u001b[0m\u001b[0;32m     89\u001b[0m                        \u001b[0mpre_dispatch\u001b[0m\u001b[1;33m=\u001b[0m\u001b[0mself\u001b[0m\u001b[1;33m.\u001b[0m\u001b[0mpre_dispatch\u001b[0m\u001b[1;33m,\u001b[0m\u001b[1;33m\u001b[0m\u001b[1;33m\u001b[0m\u001b[0m\n\u001b[0;32m     90\u001b[0m                        verbose=self.joblib_verbose)(delayed_list)\n",
      "\u001b[1;32mC:\\ProgramData\\Anaconda3\\lib\\site-packages\\joblib\\parallel.py\u001b[0m in \u001b[0;36m__call__\u001b[1;34m(self, iterable)\u001b[0m\n\u001b[0;32m   1040\u001b[0m \u001b[1;33m\u001b[0m\u001b[0m\n\u001b[0;32m   1041\u001b[0m             \u001b[1;32mwith\u001b[0m \u001b[0mself\u001b[0m\u001b[1;33m.\u001b[0m\u001b[0m_backend\u001b[0m\u001b[1;33m.\u001b[0m\u001b[0mretrieval_context\u001b[0m\u001b[1;33m(\u001b[0m\u001b[1;33m)\u001b[0m\u001b[1;33m:\u001b[0m\u001b[1;33m\u001b[0m\u001b[1;33m\u001b[0m\u001b[0m\n\u001b[1;32m-> 1042\u001b[1;33m                 \u001b[0mself\u001b[0m\u001b[1;33m.\u001b[0m\u001b[0mretrieve\u001b[0m\u001b[1;33m(\u001b[0m\u001b[1;33m)\u001b[0m\u001b[1;33m\u001b[0m\u001b[1;33m\u001b[0m\u001b[0m\n\u001b[0m\u001b[0;32m   1043\u001b[0m             \u001b[1;31m# Make sure that we get a last message telling us we are done\u001b[0m\u001b[1;33m\u001b[0m\u001b[1;33m\u001b[0m\u001b[1;33m\u001b[0m\u001b[0m\n\u001b[0;32m   1044\u001b[0m             \u001b[0melapsed_time\u001b[0m \u001b[1;33m=\u001b[0m \u001b[0mtime\u001b[0m\u001b[1;33m.\u001b[0m\u001b[0mtime\u001b[0m\u001b[1;33m(\u001b[0m\u001b[1;33m)\u001b[0m \u001b[1;33m-\u001b[0m \u001b[0mself\u001b[0m\u001b[1;33m.\u001b[0m\u001b[0m_start_time\u001b[0m\u001b[1;33m\u001b[0m\u001b[1;33m\u001b[0m\u001b[0m\n",
      "\u001b[1;32mC:\\ProgramData\\Anaconda3\\lib\\site-packages\\joblib\\parallel.py\u001b[0m in \u001b[0;36mretrieve\u001b[1;34m(self)\u001b[0m\n\u001b[0;32m    919\u001b[0m             \u001b[1;32mtry\u001b[0m\u001b[1;33m:\u001b[0m\u001b[1;33m\u001b[0m\u001b[1;33m\u001b[0m\u001b[0m\n\u001b[0;32m    920\u001b[0m                 \u001b[1;32mif\u001b[0m \u001b[0mgetattr\u001b[0m\u001b[1;33m(\u001b[0m\u001b[0mself\u001b[0m\u001b[1;33m.\u001b[0m\u001b[0m_backend\u001b[0m\u001b[1;33m,\u001b[0m \u001b[1;34m'supports_timeout'\u001b[0m\u001b[1;33m,\u001b[0m \u001b[1;32mFalse\u001b[0m\u001b[1;33m)\u001b[0m\u001b[1;33m:\u001b[0m\u001b[1;33m\u001b[0m\u001b[1;33m\u001b[0m\u001b[0m\n\u001b[1;32m--> 921\u001b[1;33m                     \u001b[0mself\u001b[0m\u001b[1;33m.\u001b[0m\u001b[0m_output\u001b[0m\u001b[1;33m.\u001b[0m\u001b[0mextend\u001b[0m\u001b[1;33m(\u001b[0m\u001b[0mjob\u001b[0m\u001b[1;33m.\u001b[0m\u001b[0mget\u001b[0m\u001b[1;33m(\u001b[0m\u001b[0mtimeout\u001b[0m\u001b[1;33m=\u001b[0m\u001b[0mself\u001b[0m\u001b[1;33m.\u001b[0m\u001b[0mtimeout\u001b[0m\u001b[1;33m)\u001b[0m\u001b[1;33m)\u001b[0m\u001b[1;33m\u001b[0m\u001b[1;33m\u001b[0m\u001b[0m\n\u001b[0m\u001b[0;32m    922\u001b[0m                 \u001b[1;32melse\u001b[0m\u001b[1;33m:\u001b[0m\u001b[1;33m\u001b[0m\u001b[1;33m\u001b[0m\u001b[0m\n\u001b[0;32m    923\u001b[0m                     \u001b[0mself\u001b[0m\u001b[1;33m.\u001b[0m\u001b[0m_output\u001b[0m\u001b[1;33m.\u001b[0m\u001b[0mextend\u001b[0m\u001b[1;33m(\u001b[0m\u001b[0mjob\u001b[0m\u001b[1;33m.\u001b[0m\u001b[0mget\u001b[0m\u001b[1;33m(\u001b[0m\u001b[1;33m)\u001b[0m\u001b[1;33m)\u001b[0m\u001b[1;33m\u001b[0m\u001b[1;33m\u001b[0m\u001b[0m\n",
      "\u001b[1;32mC:\\ProgramData\\Anaconda3\\lib\\site-packages\\joblib\\_parallel_backends.py\u001b[0m in \u001b[0;36mwrap_future_result\u001b[1;34m(future, timeout)\u001b[0m\n\u001b[0;32m    540\u001b[0m         AsyncResults.get from multiprocessing.\"\"\"\n\u001b[0;32m    541\u001b[0m         \u001b[1;32mtry\u001b[0m\u001b[1;33m:\u001b[0m\u001b[1;33m\u001b[0m\u001b[1;33m\u001b[0m\u001b[0m\n\u001b[1;32m--> 542\u001b[1;33m             \u001b[1;32mreturn\u001b[0m \u001b[0mfuture\u001b[0m\u001b[1;33m.\u001b[0m\u001b[0mresult\u001b[0m\u001b[1;33m(\u001b[0m\u001b[0mtimeout\u001b[0m\u001b[1;33m=\u001b[0m\u001b[0mtimeout\u001b[0m\u001b[1;33m)\u001b[0m\u001b[1;33m\u001b[0m\u001b[1;33m\u001b[0m\u001b[0m\n\u001b[0m\u001b[0;32m    543\u001b[0m         \u001b[1;32mexcept\u001b[0m \u001b[0mCfTimeoutError\u001b[0m \u001b[1;32mas\u001b[0m \u001b[0me\u001b[0m\u001b[1;33m:\u001b[0m\u001b[1;33m\u001b[0m\u001b[1;33m\u001b[0m\u001b[0m\n\u001b[0;32m    544\u001b[0m             \u001b[1;32mraise\u001b[0m \u001b[0mTimeoutError\u001b[0m \u001b[1;32mfrom\u001b[0m \u001b[0me\u001b[0m\u001b[1;33m\u001b[0m\u001b[1;33m\u001b[0m\u001b[0m\n",
      "\u001b[1;32mC:\\ProgramData\\Anaconda3\\lib\\concurrent\\futures\\_base.py\u001b[0m in \u001b[0;36mresult\u001b[1;34m(self, timeout)\u001b[0m\n\u001b[0;32m    432\u001b[0m                 \u001b[1;32mreturn\u001b[0m \u001b[0mself\u001b[0m\u001b[1;33m.\u001b[0m\u001b[0m__get_result\u001b[0m\u001b[1;33m(\u001b[0m\u001b[1;33m)\u001b[0m\u001b[1;33m\u001b[0m\u001b[1;33m\u001b[0m\u001b[0m\n\u001b[0;32m    433\u001b[0m \u001b[1;33m\u001b[0m\u001b[0m\n\u001b[1;32m--> 434\u001b[1;33m             \u001b[0mself\u001b[0m\u001b[1;33m.\u001b[0m\u001b[0m_condition\u001b[0m\u001b[1;33m.\u001b[0m\u001b[0mwait\u001b[0m\u001b[1;33m(\u001b[0m\u001b[0mtimeout\u001b[0m\u001b[1;33m)\u001b[0m\u001b[1;33m\u001b[0m\u001b[1;33m\u001b[0m\u001b[0m\n\u001b[0m\u001b[0;32m    435\u001b[0m \u001b[1;33m\u001b[0m\u001b[0m\n\u001b[0;32m    436\u001b[0m             \u001b[1;32mif\u001b[0m \u001b[0mself\u001b[0m\u001b[1;33m.\u001b[0m\u001b[0m_state\u001b[0m \u001b[1;32min\u001b[0m \u001b[1;33m[\u001b[0m\u001b[0mCANCELLED\u001b[0m\u001b[1;33m,\u001b[0m \u001b[0mCANCELLED_AND_NOTIFIED\u001b[0m\u001b[1;33m]\u001b[0m\u001b[1;33m:\u001b[0m\u001b[1;33m\u001b[0m\u001b[1;33m\u001b[0m\u001b[0m\n",
      "\u001b[1;32mC:\\ProgramData\\Anaconda3\\lib\\threading.py\u001b[0m in \u001b[0;36mwait\u001b[1;34m(self, timeout)\u001b[0m\n\u001b[0;32m    300\u001b[0m         \u001b[1;32mtry\u001b[0m\u001b[1;33m:\u001b[0m    \u001b[1;31m# restore state no matter what (e.g., KeyboardInterrupt)\u001b[0m\u001b[1;33m\u001b[0m\u001b[1;33m\u001b[0m\u001b[0m\n\u001b[0;32m    301\u001b[0m             \u001b[1;32mif\u001b[0m \u001b[0mtimeout\u001b[0m \u001b[1;32mis\u001b[0m \u001b[1;32mNone\u001b[0m\u001b[1;33m:\u001b[0m\u001b[1;33m\u001b[0m\u001b[1;33m\u001b[0m\u001b[0m\n\u001b[1;32m--> 302\u001b[1;33m                 \u001b[0mwaiter\u001b[0m\u001b[1;33m.\u001b[0m\u001b[0macquire\u001b[0m\u001b[1;33m(\u001b[0m\u001b[1;33m)\u001b[0m\u001b[1;33m\u001b[0m\u001b[1;33m\u001b[0m\u001b[0m\n\u001b[0m\u001b[0;32m    303\u001b[0m                 \u001b[0mgotit\u001b[0m \u001b[1;33m=\u001b[0m \u001b[1;32mTrue\u001b[0m\u001b[1;33m\u001b[0m\u001b[1;33m\u001b[0m\u001b[0m\n\u001b[0;32m    304\u001b[0m             \u001b[1;32melse\u001b[0m\u001b[1;33m:\u001b[0m\u001b[1;33m\u001b[0m\u001b[1;33m\u001b[0m\u001b[0m\n",
      "\u001b[1;31mKeyboardInterrupt\u001b[0m: "
     ]
    }
   ],
   "source": [
    "# KNNWithMeans  - базовый алгоритм совместной фильтрации, учитывающий средние оценки каждого пользователя\n",
    "\n",
    "grid_params = {'k': np.arange(20, 100),    # максимальное количество соседей\n",
    "               'min_k': np.arange(1, 10),  # минимальное количество соседей\n",
    "               'sim_options' :{'name': ['cosine', 'pearson', 'pearson_baseline'],   # метрика сходства, 'msd'\n",
    "                               'user_based': [True, False]} }      # выбор \"схожести\"\n",
    "#for i in np.linspace(0.01, 0.5, 20):    \n",
    "    #trainset, testset = train_test_split(data, test_size = i)        \n",
    "\n",
    "#data.split(n_folds=3)\n",
    "\n",
    "#trainset = data.build_full_trainset()\n",
    "\n",
    "#kf = KFold(n_splits=3)\n",
    "#for trainset, testset in kf.split(data2):\n",
    "\n",
    "cv = ShuffleSplit(n_splits=5, test_size=0.3, random_state=0)\n",
    "gs = GridSearchCV(KNNWithMeans, param_grid=grid_params, cv=cv, measures =['rmse', 'mae'], n_jobs=-1)  #measures, sizes\n",
    "gs.fit(data2)\n",
    "#cross_validate(gs, trainset, measures=['rmse', 'mae'], cv=cv, verbose=False, n_jobs=-1)\n",
    "#gs.best_score['RMSE'], gs.best_params['rmse'], grid.best_params_  # best_params_\n",
    "\n",
    "# best RMSE score\n",
    "print(gs.best_score['rmse'])\n",
    "\n",
    "# combination of parameters that gave the best RMSE score\n",
    "print(gs.best_params['rmse'])"
   ]
  },
  {
   "cell_type": "code",
   "execution_count": 107,
   "metadata": {},
   "outputs": [
    {
     "data": {
      "application/vnd.jupyter.widget-view+json": {
       "model_id": "f52138d0c8aa4f70ab85e31caa04ed0a",
       "version_major": 2,
       "version_minor": 0
      },
      "text/plain": [
       "HBox(children=(FloatProgress(value=1.0, bar_style='info', max=1.0), HTML(value='')))"
      ]
     },
     "metadata": {},
     "output_type": "display_data"
    },
    {
     "name": "stdout",
     "output_type": "stream",
     "text": [
      "0.9269454845827495\n",
      "{'k': 50, 'min_k': 1, 'sim_options': {'name': 'pearson_baseline', 'user_based': False}}\n"
     ]
    }
   ],
   "source": [
    "grid_params = {'k': [20, 50, 100],    # максимальное количество соседей\n",
    "               'min_k': [1, 10],  # минимальное количество соседей\n",
    "               'sim_options' :{'name': ['cosine', 'pearson', 'pearson_baseline'],   # метрика сходства, 'msd'\n",
    "                               'user_based': [True, False]} }      # выбор \"схожести\"\n",
    "\n",
    "cv = ShuffleSplit(n_splits=5, test_size=0.3, random_state=0)\n",
    "gs = GridSearchCV(KNNWithMeans, param_grid=grid_params, cv=cv, measures =['rmse', 'mae'], n_jobs=-1)  #measures, sizes\n",
    "tqdm(gs.fit(data2))\n",
    "\n",
    "print(gs.best_score['rmse'])\n",
    "print(gs.best_params['rmse'])"
   ]
  },
  {
   "cell_type": "code",
   "execution_count": 109,
   "metadata": {},
   "outputs": [
    {
     "name": "stdout",
     "output_type": "stream",
     "text": [
      "0.9323108638751805\n",
      "{'k': 50, 'min_k': 1, 'sim_options': {'name': 'pearson_baseline', 'user_based': False}}\n"
     ]
    }
   ],
   "source": [
    "grid_params = {'k': [50, 100],    # максимальное количество соседей\n",
    "               'min_k': [1, 3],  # минимальное количество соседей\n",
    "               'sim_options' :{'name': ['cosine', 'pearson', 'pearson_baseline'],   # метрика сходства, 'msd'\n",
    "                               'user_based': [True, False]} }      # выбор \"схожести\"\n",
    "\n",
    "cv = ShuffleSplit(n_splits=5, test_size=0.3, random_state=0)\n",
    "gs = GridSearchCV(KNNWithMeans, param_grid=grid_params, cv=cv, measures =['rmse', 'mae'], n_jobs=-1)  #measures, sizes\n",
    "gs.fit(data)\n",
    "\n",
    "print(gs.best_score['rmse'])\n",
    "print(gs.best_params['rmse'])"
   ]
  },
  {
   "cell_type": "code",
   "execution_count": 120,
   "metadata": {},
   "outputs": [
    {
     "name": "stdout",
     "output_type": "stream",
     "text": [
      "0.9179591458916068\n",
      "{'k': 50, 'min_k': 2, 'sim_options': {'name': 'pearson_baseline', 'user_based': False}}\n"
     ]
    }
   ],
   "source": [
    "grid_params = {'k': [50, 60],    # максимальное количество соседей\n",
    "               'min_k': [1, 2],  # минимальное количество соседей\n",
    "               'sim_options' :{'name': ['msd', 'cosine', 'pearson', 'pearson_baseline'],   # метрика сходства, 'msd'\n",
    "                               'user_based': [True, False]} }      # выбор \"схожести\"\n",
    "\n",
    "cv = ShuffleSplit(n_splits=5, test_size=0.1, random_state=0)\n",
    "gs = GridSearchCV(KNNWithMeans, param_grid=grid_params, cv=cv, measures =['rmse', 'mae'], n_jobs=-1)  #measures, sizes\n",
    "gs.fit(data)\n",
    "\n",
    "print(gs.best_score['rmse'])\n",
    "print(gs.best_params['rmse'])"
   ]
  },
  {
   "cell_type": "code",
   "execution_count": 123,
   "metadata": {},
   "outputs": [
    {
     "name": "stdout",
     "output_type": "stream",
     "text": [
      "0.9254610046369123\n",
      "{'k': 50, 'min_k': 1, 'sim_options': {'name': 'pearson_baseline', 'user_based': False}}\n"
     ]
    }
   ],
   "source": [
    "grid_params = {'k': [40, 50, 60],    # максимальное количество соседей\n",
    "               'min_k': [1, 2, 3],  # минимальное количество соседей\n",
    "               'sim_options' :{'name': ['msd', 'pearson_baseline'],   # метрика сходства, 'msd'\n",
    "                               'user_based': [False]} }      # выбор \"схожести\"\n",
    "\n",
    "cv = ShuffleSplit(n_splits=5, test_size=0.1, random_state=0)\n",
    "gs = GridSearchCV(KNNWithMeans, param_grid=grid_params, cv=cv, measures =['rmse', 'mae'], n_jobs=-1)  #measures, sizes\n",
    "gs.fit(data2)\n",
    "\n",
    "print(gs.best_score['rmse'])\n",
    "print(gs.best_params['rmse'])"
   ]
  },
  {
   "cell_type": "markdown",
   "metadata": {},
   "source": [
    "##### SVD"
   ]
  },
  {
   "cell_type": "code",
   "execution_count": 119,
   "metadata": {
    "scrolled": true
   },
   "outputs": [
    {
     "name": "stdout",
     "output_type": "stream",
     "text": [
      "0.963966535191074\n",
      "{'n_epochs': 10, 'lr_all': 0.005, 'reg_all': 0.4}\n"
     ]
    }
   ],
   "source": [
    "param_grid2 = {'n_epochs': [5, 10], \n",
    "               'lr_all': [0.002, 0.005],\n",
    "               'reg_all': [0.4, 0.6]}\n",
    "#cv = ShuffleSplit(n_splits=5, test_size=0.3, random_state=0)\n",
    "gs = GridSearchCV(SVD, param_grid = param_grid2, measures=['rmse', 'mae'], cv=5)\n",
    "\n",
    "#trainset = data.build_full_trainset ()\n",
    "#grid2.fit(trainset)\n",
    "#data.split(n_folds=3)\n",
    "\n",
    "raw_ratings = data2.raw_ratings                                             \n",
    "\n",
    "# shuffle ratings if you want                                              \n",
    "random.shuffle(raw_ratings)                                                \n",
    "\n",
    "# 90% trainset, 10% testset                                                \n",
    "threshold = int(.9 * len(raw_ratings))                                     \n",
    "trainset_raw_ratings = raw_ratings[:threshold]                             \n",
    "test_raw_ratings = raw_ratings[threshold:]                                 \n",
    "\n",
    "data2.raw_ratings = trainset_raw_ratings  # data is now your trainset       \n",
    "gs.fit(data2)\n",
    "\n",
    "# best RMSE score\n",
    "print(gs.best_score['rmse'])\n",
    "\n",
    "# combination of parameters that gave the best RMSE score\n",
    "print(gs.best_params['rmse'])"
   ]
  },
  {
   "cell_type": "code",
   "execution_count": 94,
   "metadata": {},
   "outputs": [
    {
     "name": "stdout",
     "output_type": "stream",
     "text": [
      "0.9324038419227684\n",
      "{'n_epochs': 100, 'lr_all': 0.006, 'reg_all': 0.2}\n"
     ]
    }
   ],
   "source": [
    "# Use movielens-100K\n",
    "#data = Dataset.load_builtin('ml-100k')\n",
    "\n",
    "param_grid = {'n_epochs': [100], \n",
    "              'lr_all': [0.006],\n",
    "              'reg_all': [0.2, 0.3]}\n",
    "cv = ShuffleSplit(n_splits=5, test_size=0.3, random_state=0)\n",
    "gs = GridSearchCV(SVD, param_grid, measures=['rmse', 'mae'], cv=cv, n_jobs=-1)\n",
    "\n",
    "gs.fit(data2)\n",
    "\n",
    "# best RMSE score\n",
    "print(gs.best_score['rmse'])\n",
    "\n",
    "# combination of parameters that gave the best RMSE score\n",
    "print(gs.best_params['rmse'])"
   ]
  },
  {
   "cell_type": "code",
   "execution_count": null,
   "metadata": {},
   "outputs": [],
   "source": []
  },
  {
   "cell_type": "code",
   "execution_count": null,
   "metadata": {},
   "outputs": [],
   "source": []
  }
 ],
 "metadata": {
  "kernelspec": {
   "display_name": "Python 3",
   "language": "python",
   "name": "python3"
  },
  "language_info": {
   "codemirror_mode": {
    "name": "ipython",
    "version": 3
   },
   "file_extension": ".py",
   "mimetype": "text/x-python",
   "name": "python",
   "nbconvert_exporter": "python",
   "pygments_lexer": "ipython3",
   "version": "3.8.3"
  }
 },
 "nbformat": 4,
 "nbformat_minor": 4
}
