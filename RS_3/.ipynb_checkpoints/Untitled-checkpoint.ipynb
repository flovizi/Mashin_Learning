{
 "cells": [
  {
   "cell_type": "markdown",
   "metadata": {},
   "source": [
    "#### Задание к теме «Гибридные рекомендательные системы»\n",
    "\n",
    "\n",
    "Датасет ml-latest  \n",
    "Вспомнить подходы, которые мы разбирали  \n",
    "Выбрать понравившийся подход к гибридным системам  \n",
    "Написать свою  "
   ]
  },
  {
   "cell_type": "code",
   "execution_count": 1,
   "metadata": {},
   "outputs": [],
   "source": [
    "import pandas as pd\n",
    "import numpy as np\n",
    "\n",
    "from sklearn.feature_extraction.text import TfidfTransformer, TfidfVectorizer, CountVectorizer\n",
    "from sklearn.linear_model import LinearRegression\n",
    "from sklearn.neighbors import NearestNeighbors\n",
    "from sklearn.model_selection import train_test_split\n",
    "\n",
    "from scipy.spatial.distance import correlation\n",
    "\n",
    "from surprise import Dataset\n",
    "from surprise import accuracy\n",
    "from surprise import Reader\n",
    "from surprise.model_selection import train_test_split\n",
    "from surprise import SVD\n",
    "\n",
    "\n",
    "from tqdm.notebook import tqdm\n",
    "\n",
    "%matplotlib inline\n",
    "\n",
    "import warnings\n",
    "warnings.filterwarnings('ignore')"
   ]
  },
  {
   "cell_type": "code",
   "execution_count": 2,
   "metadata": {},
   "outputs": [],
   "source": [
    "movies = pd.read_csv(r'C:\\Users\\Urmas\\Desktop\\Digital\\НЕТОЛОГИЯ. ПРОФЕССИЯ DATA SCIENTIST\\Рекомендательные системы\\Рекомендации на основе содержания\\movies.csv')\n",
    "ratings = pd.read_csv(r'C:\\Users\\Urmas\\Desktop\\Digital\\НЕТОЛОГИЯ. ПРОФЕССИЯ DATA SCIENTIST\\Рекомендательные системы\\Рекомендации на основе содержания\\ratings.csv')\n",
    "tags = pd.read_csv(r'C:\\Users\\Urmas\\Desktop\\Digital\\НЕТОЛОГИЯ. ПРОФЕССИЯ DATA SCIENTIST\\Рекомендательные системы\\Рекомендации на основе содержания\\tags.csv')"
   ]
  },
  {
   "cell_type": "code",
   "execution_count": 3,
   "metadata": {},
   "outputs": [
    {
     "data": {
      "text/html": [
       "<div>\n",
       "<style scoped>\n",
       "    .dataframe tbody tr th:only-of-type {\n",
       "        vertical-align: middle;\n",
       "    }\n",
       "\n",
       "    .dataframe tbody tr th {\n",
       "        vertical-align: top;\n",
       "    }\n",
       "\n",
       "    .dataframe thead th {\n",
       "        text-align: right;\n",
       "    }\n",
       "</style>\n",
       "<table border=\"1\" class=\"dataframe\">\n",
       "  <thead>\n",
       "    <tr style=\"text-align: right;\">\n",
       "      <th></th>\n",
       "      <th>movieId</th>\n",
       "      <th>title</th>\n",
       "      <th>genres</th>\n",
       "      <th>userId</th>\n",
       "      <th>rating</th>\n",
       "      <th>timestamp</th>\n",
       "    </tr>\n",
       "  </thead>\n",
       "  <tbody>\n",
       "    <tr>\n",
       "      <th>0</th>\n",
       "      <td>1</td>\n",
       "      <td>Toy Story (1995)</td>\n",
       "      <td>Adventure|Animation|Children|Comedy|Fantasy</td>\n",
       "      <td>1.0</td>\n",
       "      <td>4.0</td>\n",
       "      <td>9.649827e+08</td>\n",
       "    </tr>\n",
       "    <tr>\n",
       "      <th>1</th>\n",
       "      <td>1</td>\n",
       "      <td>Toy Story (1995)</td>\n",
       "      <td>Adventure|Animation|Children|Comedy|Fantasy</td>\n",
       "      <td>5.0</td>\n",
       "      <td>4.0</td>\n",
       "      <td>8.474350e+08</td>\n",
       "    </tr>\n",
       "    <tr>\n",
       "      <th>2</th>\n",
       "      <td>1</td>\n",
       "      <td>Toy Story (1995)</td>\n",
       "      <td>Adventure|Animation|Children|Comedy|Fantasy</td>\n",
       "      <td>7.0</td>\n",
       "      <td>4.5</td>\n",
       "      <td>1.106636e+09</td>\n",
       "    </tr>\n",
       "    <tr>\n",
       "      <th>3</th>\n",
       "      <td>1</td>\n",
       "      <td>Toy Story (1995)</td>\n",
       "      <td>Adventure|Animation|Children|Comedy|Fantasy</td>\n",
       "      <td>15.0</td>\n",
       "      <td>2.5</td>\n",
       "      <td>1.510578e+09</td>\n",
       "    </tr>\n",
       "    <tr>\n",
       "      <th>4</th>\n",
       "      <td>1</td>\n",
       "      <td>Toy Story (1995)</td>\n",
       "      <td>Adventure|Animation|Children|Comedy|Fantasy</td>\n",
       "      <td>17.0</td>\n",
       "      <td>4.5</td>\n",
       "      <td>1.305696e+09</td>\n",
       "    </tr>\n",
       "  </tbody>\n",
       "</table>\n",
       "</div>"
      ],
      "text/plain": [
       "   movieId             title                                       genres  \\\n",
       "0        1  Toy Story (1995)  Adventure|Animation|Children|Comedy|Fantasy   \n",
       "1        1  Toy Story (1995)  Adventure|Animation|Children|Comedy|Fantasy   \n",
       "2        1  Toy Story (1995)  Adventure|Animation|Children|Comedy|Fantasy   \n",
       "3        1  Toy Story (1995)  Adventure|Animation|Children|Comedy|Fantasy   \n",
       "4        1  Toy Story (1995)  Adventure|Animation|Children|Comedy|Fantasy   \n",
       "\n",
       "   userId  rating     timestamp  \n",
       "0     1.0     4.0  9.649827e+08  \n",
       "1     5.0     4.0  8.474350e+08  \n",
       "2     7.0     4.5  1.106636e+09  \n",
       "3    15.0     2.5  1.510578e+09  \n",
       "4    17.0     4.5  1.305696e+09  "
      ]
     },
     "execution_count": 3,
     "metadata": {},
     "output_type": "execute_result"
    }
   ],
   "source": [
    "data1 = movies.join(ratings.set_index('movieId'), on='movieId').reset_index(drop=True)\n",
    "data1.dropna(inplace=True)\n",
    "data1.head()"
   ]
  },
  {
   "cell_type": "code",
   "execution_count": 4,
   "metadata": {},
   "outputs": [
    {
     "data": {
      "text/html": [
       "<div>\n",
       "<style scoped>\n",
       "    .dataframe tbody tr th:only-of-type {\n",
       "        vertical-align: middle;\n",
       "    }\n",
       "\n",
       "    .dataframe tbody tr th {\n",
       "        vertical-align: top;\n",
       "    }\n",
       "\n",
       "    .dataframe thead th {\n",
       "        text-align: right;\n",
       "    }\n",
       "</style>\n",
       "<table border=\"1\" class=\"dataframe\">\n",
       "  <thead>\n",
       "    <tr style=\"text-align: right;\">\n",
       "      <th></th>\n",
       "      <th>movieId</th>\n",
       "      <th>title</th>\n",
       "      <th>genres</th>\n",
       "      <th>tag</th>\n",
       "      <th>userId_x</th>\n",
       "      <th>rating</th>\n",
       "      <th>timestamp_x</th>\n",
       "    </tr>\n",
       "  </thead>\n",
       "  <tbody>\n",
       "    <tr>\n",
       "      <th>0</th>\n",
       "      <td>1</td>\n",
       "      <td>Toy Story (1995)</td>\n",
       "      <td>Adventure|Animation|Children|Comedy|Fantasy</td>\n",
       "      <td>pixar</td>\n",
       "      <td>1.0</td>\n",
       "      <td>4.0</td>\n",
       "      <td>964982703.0</td>\n",
       "    </tr>\n",
       "    <tr>\n",
       "      <th>1</th>\n",
       "      <td>1</td>\n",
       "      <td>Toy Story (1995)</td>\n",
       "      <td>Adventure|Animation|Children|Comedy|Fantasy</td>\n",
       "      <td>pixar</td>\n",
       "      <td>1.0</td>\n",
       "      <td>4.0</td>\n",
       "      <td>964982703.0</td>\n",
       "    </tr>\n",
       "    <tr>\n",
       "      <th>2</th>\n",
       "      <td>1</td>\n",
       "      <td>Toy Story (1995)</td>\n",
       "      <td>Adventure|Animation|Children|Comedy|Fantasy</td>\n",
       "      <td>fun</td>\n",
       "      <td>1.0</td>\n",
       "      <td>4.0</td>\n",
       "      <td>964982703.0</td>\n",
       "    </tr>\n",
       "    <tr>\n",
       "      <th>3</th>\n",
       "      <td>1</td>\n",
       "      <td>Toy Story (1995)</td>\n",
       "      <td>Adventure|Animation|Children|Comedy|Fantasy</td>\n",
       "      <td>pixar</td>\n",
       "      <td>5.0</td>\n",
       "      <td>4.0</td>\n",
       "      <td>847434962.0</td>\n",
       "    </tr>\n",
       "    <tr>\n",
       "      <th>4</th>\n",
       "      <td>1</td>\n",
       "      <td>Toy Story (1995)</td>\n",
       "      <td>Adventure|Animation|Children|Comedy|Fantasy</td>\n",
       "      <td>pixar</td>\n",
       "      <td>5.0</td>\n",
       "      <td>4.0</td>\n",
       "      <td>847434962.0</td>\n",
       "    </tr>\n",
       "  </tbody>\n",
       "</table>\n",
       "</div>"
      ],
      "text/plain": [
       "   movieId             title                                       genres  \\\n",
       "0        1  Toy Story (1995)  Adventure|Animation|Children|Comedy|Fantasy   \n",
       "1        1  Toy Story (1995)  Adventure|Animation|Children|Comedy|Fantasy   \n",
       "2        1  Toy Story (1995)  Adventure|Animation|Children|Comedy|Fantasy   \n",
       "3        1  Toy Story (1995)  Adventure|Animation|Children|Comedy|Fantasy   \n",
       "4        1  Toy Story (1995)  Adventure|Animation|Children|Comedy|Fantasy   \n",
       "\n",
       "     tag  userId_x  rating  timestamp_x  \n",
       "0  pixar       1.0     4.0  964982703.0  \n",
       "1  pixar       1.0     4.0  964982703.0  \n",
       "2    fun       1.0     4.0  964982703.0  \n",
       "3  pixar       5.0     4.0  847434962.0  \n",
       "4  pixar       5.0     4.0  847434962.0  "
      ]
     },
     "execution_count": 4,
     "metadata": {},
     "output_type": "execute_result"
    }
   ],
   "source": [
    "data2 = data1.merge(tags.set_index('movieId'), on='movieId').reset_index(drop=True)\n",
    "data2.dropna(inplace=True)\n",
    "# lsuffix='_left', rsuffix='_right'\n",
    "data2 = data2.drop('timestamp_y', axis=1)[['movieId', 'title', 'genres', 'tag', \n",
    "                                           'userId_x', 'rating', 'timestamp_x']]\n",
    "data2.head()"
   ]
  },
  {
   "cell_type": "code",
   "execution_count": 5,
   "metadata": {},
   "outputs": [
    {
     "data": {
      "text/html": [
       "<div>\n",
       "<style scoped>\n",
       "    .dataframe tbody tr th:only-of-type {\n",
       "        vertical-align: middle;\n",
       "    }\n",
       "\n",
       "    .dataframe tbody tr th {\n",
       "        vertical-align: top;\n",
       "    }\n",
       "\n",
       "    .dataframe thead th {\n",
       "        text-align: right;\n",
       "    }\n",
       "</style>\n",
       "<table border=\"1\" class=\"dataframe\">\n",
       "  <thead>\n",
       "    <tr style=\"text-align: right;\">\n",
       "      <th></th>\n",
       "      <th>movieId</th>\n",
       "      <th>title</th>\n",
       "      <th>genres</th>\n",
       "      <th>tag</th>\n",
       "      <th>userId_x</th>\n",
       "      <th>rating</th>\n",
       "      <th>timestamp_x</th>\n",
       "    </tr>\n",
       "  </thead>\n",
       "  <tbody>\n",
       "    <tr>\n",
       "      <th>0</th>\n",
       "      <td>1</td>\n",
       "      <td>Toy Story (1995)</td>\n",
       "      <td>adventure animation children comedy fantasy</td>\n",
       "      <td>pixar</td>\n",
       "      <td>1.0</td>\n",
       "      <td>4.0</td>\n",
       "      <td>964982703.0</td>\n",
       "    </tr>\n",
       "    <tr>\n",
       "      <th>1</th>\n",
       "      <td>1</td>\n",
       "      <td>Toy Story (1995)</td>\n",
       "      <td>adventure animation children comedy fantasy</td>\n",
       "      <td>pixar</td>\n",
       "      <td>1.0</td>\n",
       "      <td>4.0</td>\n",
       "      <td>964982703.0</td>\n",
       "    </tr>\n",
       "    <tr>\n",
       "      <th>2</th>\n",
       "      <td>1</td>\n",
       "      <td>Toy Story (1995)</td>\n",
       "      <td>adventure animation children comedy fantasy</td>\n",
       "      <td>fun</td>\n",
       "      <td>1.0</td>\n",
       "      <td>4.0</td>\n",
       "      <td>964982703.0</td>\n",
       "    </tr>\n",
       "    <tr>\n",
       "      <th>3</th>\n",
       "      <td>1</td>\n",
       "      <td>Toy Story (1995)</td>\n",
       "      <td>adventure animation children comedy fantasy</td>\n",
       "      <td>pixar</td>\n",
       "      <td>5.0</td>\n",
       "      <td>4.0</td>\n",
       "      <td>847434962.0</td>\n",
       "    </tr>\n",
       "    <tr>\n",
       "      <th>4</th>\n",
       "      <td>1</td>\n",
       "      <td>Toy Story (1995)</td>\n",
       "      <td>adventure animation children comedy fantasy</td>\n",
       "      <td>pixar</td>\n",
       "      <td>5.0</td>\n",
       "      <td>4.0</td>\n",
       "      <td>847434962.0</td>\n",
       "    </tr>\n",
       "  </tbody>\n",
       "</table>\n",
       "</div>"
      ],
      "text/plain": [
       "   movieId             title                                       genres  \\\n",
       "0        1  Toy Story (1995)  adventure animation children comedy fantasy   \n",
       "1        1  Toy Story (1995)  adventure animation children comedy fantasy   \n",
       "2        1  Toy Story (1995)  adventure animation children comedy fantasy   \n",
       "3        1  Toy Story (1995)  adventure animation children comedy fantasy   \n",
       "4        1  Toy Story (1995)  adventure animation children comedy fantasy   \n",
       "\n",
       "     tag  userId_x  rating  timestamp_x  \n",
       "0  pixar       1.0     4.0  964982703.0  \n",
       "1  pixar       1.0     4.0  964982703.0  \n",
       "2    fun       1.0     4.0  964982703.0  \n",
       "3  pixar       5.0     4.0  847434962.0  \n",
       "4  pixar       5.0     4.0  847434962.0  "
      ]
     },
     "execution_count": 5,
     "metadata": {},
     "output_type": "execute_result"
    }
   ],
   "source": [
    "data2['genres'] = data2['genres'].apply(lambda x: ' '.join(x.lower().replace(' ', '').replace('-', '').split('|')))\n",
    "data2.head()"
   ]
  },
  {
   "cell_type": "code",
   "execution_count": 6,
   "metadata": {
    "scrolled": true
   },
   "outputs": [
    {
     "data": {
      "text/plain": [
       "430"
      ]
     },
     "execution_count": 6,
     "metadata": {},
     "output_type": "execute_result"
    }
   ],
   "source": [
    "tegi = {}     # соберем теги и их частотность\n",
    "a = data2.tag.values.tolist()\n",
    "for i in data2.tag.unique():\n",
    "    tegi[i]=a.count(i)\n",
    "tegi['pixar']"
   ]
  },
  {
   "cell_type": "code",
   "execution_count": 7,
   "metadata": {},
   "outputs": [],
   "source": [
    "small_tag = []      # соберем частоповторяющиеся теги\n",
    "for i, j in tegi.items():\n",
    "    if j > 1000:\n",
    "        small_tag.append(i)"
   ]
  },
  {
   "cell_type": "code",
   "execution_count": 8,
   "metadata": {},
   "outputs": [
    {
     "data": {
      "text/html": [
       "<div>\n",
       "<style scoped>\n",
       "    .dataframe tbody tr th:only-of-type {\n",
       "        vertical-align: middle;\n",
       "    }\n",
       "\n",
       "    .dataframe tbody tr th {\n",
       "        vertical-align: top;\n",
       "    }\n",
       "\n",
       "    .dataframe thead th {\n",
       "        text-align: right;\n",
       "    }\n",
       "</style>\n",
       "<table border=\"1\" class=\"dataframe\">\n",
       "  <thead>\n",
       "    <tr style=\"text-align: right;\">\n",
       "      <th></th>\n",
       "      <th>movieId</th>\n",
       "      <th>title</th>\n",
       "      <th>genres</th>\n",
       "      <th>tag</th>\n",
       "      <th>userId_x</th>\n",
       "      <th>rating</th>\n",
       "      <th>timestamp_x</th>\n",
       "    </tr>\n",
       "  </thead>\n",
       "  <tbody>\n",
       "    <tr>\n",
       "      <th>0</th>\n",
       "      <td>1</td>\n",
       "      <td>Toy Story (1995)</td>\n",
       "      <td>adventure animation children comedy fantasy</td>\n",
       "      <td>pixar</td>\n",
       "      <td>1.0</td>\n",
       "      <td>4.0</td>\n",
       "      <td>964982703.0</td>\n",
       "    </tr>\n",
       "    <tr>\n",
       "      <th>1</th>\n",
       "      <td>1</td>\n",
       "      <td>Toy Story (1995)</td>\n",
       "      <td>adventure animation children comedy fantasy</td>\n",
       "      <td>pixar</td>\n",
       "      <td>1.0</td>\n",
       "      <td>4.0</td>\n",
       "      <td>964982703.0</td>\n",
       "    </tr>\n",
       "    <tr>\n",
       "      <th>2</th>\n",
       "      <td>1</td>\n",
       "      <td>Toy Story (1995)</td>\n",
       "      <td>adventure animation children comedy fantasy</td>\n",
       "      <td>fun</td>\n",
       "      <td>1.0</td>\n",
       "      <td>4.0</td>\n",
       "      <td>964982703.0</td>\n",
       "    </tr>\n",
       "    <tr>\n",
       "      <th>3</th>\n",
       "      <td>1</td>\n",
       "      <td>Toy Story (1995)</td>\n",
       "      <td>adventure animation children comedy fantasy</td>\n",
       "      <td>pixar</td>\n",
       "      <td>5.0</td>\n",
       "      <td>4.0</td>\n",
       "      <td>847434962.0</td>\n",
       "    </tr>\n",
       "    <tr>\n",
       "      <th>4</th>\n",
       "      <td>1</td>\n",
       "      <td>Toy Story (1995)</td>\n",
       "      <td>adventure animation children comedy fantasy</td>\n",
       "      <td>pixar</td>\n",
       "      <td>5.0</td>\n",
       "      <td>4.0</td>\n",
       "      <td>847434962.0</td>\n",
       "    </tr>\n",
       "  </tbody>\n",
       "</table>\n",
       "</div>"
      ],
      "text/plain": [
       "   movieId             title                                       genres  \\\n",
       "0        1  Toy Story (1995)  adventure animation children comedy fantasy   \n",
       "1        1  Toy Story (1995)  adventure animation children comedy fantasy   \n",
       "2        1  Toy Story (1995)  adventure animation children comedy fantasy   \n",
       "3        1  Toy Story (1995)  adventure animation children comedy fantasy   \n",
       "4        1  Toy Story (1995)  adventure animation children comedy fantasy   \n",
       "\n",
       "     tag  userId_x  rating  timestamp_x  \n",
       "0  pixar       1.0     4.0  964982703.0  \n",
       "1  pixar       1.0     4.0  964982703.0  \n",
       "2    fun       1.0     4.0  964982703.0  \n",
       "3  pixar       5.0     4.0  847434962.0  \n",
       "4  pixar       5.0     4.0  847434962.0  "
      ]
     },
     "execution_count": 8,
     "metadata": {},
     "output_type": "execute_result"
    }
   ],
   "source": [
    "data2['tag'] = data2['tag'].apply(lambda x: 'other' if x in small_tag else (x.lower().replace(' ', '').replace('-', '')))\n",
    "data2.head()"
   ]
  },
  {
   "cell_type": "code",
   "execution_count": 9,
   "metadata": {},
   "outputs": [
    {
     "data": {
      "application/vnd.jupyter.widget-view+json": {
       "model_id": "716a7ff85dbf458da788fff022eefb0d",
       "version_major": 2,
       "version_minor": 0
      },
      "text/plain": [
       "HBox(children=(FloatProgress(value=0.0, max=1554.0), HTML(value='')))"
      ]
     },
     "metadata": {},
     "output_type": "display_data"
    },
    {
     "name": "stdout",
     "output_type": "stream",
     "text": [
      "\n"
     ]
    },
    {
     "data": {
      "text/html": [
       "<div>\n",
       "<style scoped>\n",
       "    .dataframe tbody tr th:only-of-type {\n",
       "        vertical-align: middle;\n",
       "    }\n",
       "\n",
       "    .dataframe tbody tr th {\n",
       "        vertical-align: top;\n",
       "    }\n",
       "\n",
       "    .dataframe thead th {\n",
       "        text-align: right;\n",
       "    }\n",
       "</style>\n",
       "<table border=\"1\" class=\"dataframe\">\n",
       "  <thead>\n",
       "    <tr style=\"text-align: right;\">\n",
       "      <th></th>\n",
       "      <th>movieId</th>\n",
       "      <th>title</th>\n",
       "      <th>genres</th>\n",
       "      <th>tag</th>\n",
       "      <th>userId_x</th>\n",
       "      <th>rating</th>\n",
       "      <th>timestamp_x</th>\n",
       "    </tr>\n",
       "  </thead>\n",
       "  <tbody>\n",
       "    <tr>\n",
       "      <th>0</th>\n",
       "      <td>1</td>\n",
       "      <td>Toy Story (1995)</td>\n",
       "      <td>adventure animation children comedy fantasy</td>\n",
       "      <td>pixar</td>\n",
       "      <td>1.0</td>\n",
       "      <td>4.0</td>\n",
       "      <td>964982703.0</td>\n",
       "    </tr>\n",
       "    <tr>\n",
       "      <th>1</th>\n",
       "      <td>1</td>\n",
       "      <td>Toy Story (1995)</td>\n",
       "      <td>adventure animation children comedy fantasy</td>\n",
       "      <td>pixar</td>\n",
       "      <td>1.0</td>\n",
       "      <td>4.0</td>\n",
       "      <td>964982703.0</td>\n",
       "    </tr>\n",
       "    <tr>\n",
       "      <th>2</th>\n",
       "      <td>1</td>\n",
       "      <td>Toy Story (1995)</td>\n",
       "      <td>adventure animation children comedy fantasy</td>\n",
       "      <td>fun</td>\n",
       "      <td>1.0</td>\n",
       "      <td>4.0</td>\n",
       "      <td>964982703.0</td>\n",
       "    </tr>\n",
       "    <tr>\n",
       "      <th>3</th>\n",
       "      <td>1</td>\n",
       "      <td>Toy Story (1995)</td>\n",
       "      <td>adventure animation children comedy fantasy</td>\n",
       "      <td>pixar</td>\n",
       "      <td>5.0</td>\n",
       "      <td>4.0</td>\n",
       "      <td>847434962.0</td>\n",
       "    </tr>\n",
       "    <tr>\n",
       "      <th>4</th>\n",
       "      <td>1</td>\n",
       "      <td>Toy Story (1995)</td>\n",
       "      <td>adventure animation children comedy fantasy</td>\n",
       "      <td>pixar</td>\n",
       "      <td>5.0</td>\n",
       "      <td>4.0</td>\n",
       "      <td>847434962.0</td>\n",
       "    </tr>\n",
       "  </tbody>\n",
       "</table>\n",
       "</div>"
      ],
      "text/plain": [
       "   movieId             title                                       genres  \\\n",
       "0        1  Toy Story (1995)  adventure animation children comedy fantasy   \n",
       "1        1  Toy Story (1995)  adventure animation children comedy fantasy   \n",
       "2        1  Toy Story (1995)  adventure animation children comedy fantasy   \n",
       "3        1  Toy Story (1995)  adventure animation children comedy fantasy   \n",
       "4        1  Toy Story (1995)  adventure animation children comedy fantasy   \n",
       "\n",
       "     tag  userId_x  rating  timestamp_x  \n",
       "0  pixar       1.0     4.0  964982703.0  \n",
       "1  pixar       1.0     4.0  964982703.0  \n",
       "2    fun       1.0     4.0  964982703.0  \n",
       "3  pixar       5.0     4.0  847434962.0  \n",
       "4  pixar       5.0     4.0  847434962.0  "
      ]
     },
     "execution_count": 9,
     "metadata": {},
     "output_type": "execute_result"
    }
   ],
   "source": [
    "# соберем для каждого фильма все его жанры\n",
    "\n",
    "#data2['genres'] = data2['movieId'].apply(lambda x: ' '.join(data2.groupby('movieId').genres.unique())[x])  # долго грузится\n",
    "\n",
    "Genre = {}\n",
    "for title, group in tqdm(data2.groupby('movieId')):\n",
    "    Genre[title] = ' '.join(group.genres.unique())\n",
    "\n",
    "data2['genres'] = data2['movieId'].apply(lambda x: Genre[x])\n",
    "\n",
    "\n",
    "data2.head()"
   ]
  },
  {
   "cell_type": "code",
   "execution_count": 10,
   "metadata": {},
   "outputs": [
    {
     "data": {
      "application/vnd.jupyter.widget-view+json": {
       "model_id": "47789e23f0984c35807d7b1815fbbdd2",
       "version_major": 2,
       "version_minor": 0
      },
      "text/plain": [
       "HBox(children=(FloatProgress(value=0.0, max=1554.0), HTML(value='')))"
      ]
     },
     "metadata": {},
     "output_type": "display_data"
    },
    {
     "name": "stdout",
     "output_type": "stream",
     "text": [
      "\n"
     ]
    },
    {
     "data": {
      "text/html": [
       "<div>\n",
       "<style scoped>\n",
       "    .dataframe tbody tr th:only-of-type {\n",
       "        vertical-align: middle;\n",
       "    }\n",
       "\n",
       "    .dataframe tbody tr th {\n",
       "        vertical-align: top;\n",
       "    }\n",
       "\n",
       "    .dataframe thead th {\n",
       "        text-align: right;\n",
       "    }\n",
       "</style>\n",
       "<table border=\"1\" class=\"dataframe\">\n",
       "  <thead>\n",
       "    <tr style=\"text-align: right;\">\n",
       "      <th></th>\n",
       "      <th>movieId</th>\n",
       "      <th>title</th>\n",
       "      <th>genres</th>\n",
       "      <th>tag</th>\n",
       "      <th>userId_x</th>\n",
       "      <th>rating</th>\n",
       "      <th>timestamp_x</th>\n",
       "    </tr>\n",
       "  </thead>\n",
       "  <tbody>\n",
       "    <tr>\n",
       "      <th>0</th>\n",
       "      <td>1</td>\n",
       "      <td>Toy Story (1995)</td>\n",
       "      <td>adventure animation children comedy fantasy</td>\n",
       "      <td>pixar fun</td>\n",
       "      <td>1.0</td>\n",
       "      <td>4.0</td>\n",
       "      <td>964982703.0</td>\n",
       "    </tr>\n",
       "    <tr>\n",
       "      <th>1</th>\n",
       "      <td>1</td>\n",
       "      <td>Toy Story (1995)</td>\n",
       "      <td>adventure animation children comedy fantasy</td>\n",
       "      <td>pixar fun</td>\n",
       "      <td>1.0</td>\n",
       "      <td>4.0</td>\n",
       "      <td>964982703.0</td>\n",
       "    </tr>\n",
       "    <tr>\n",
       "      <th>2</th>\n",
       "      <td>1</td>\n",
       "      <td>Toy Story (1995)</td>\n",
       "      <td>adventure animation children comedy fantasy</td>\n",
       "      <td>pixar fun</td>\n",
       "      <td>1.0</td>\n",
       "      <td>4.0</td>\n",
       "      <td>964982703.0</td>\n",
       "    </tr>\n",
       "    <tr>\n",
       "      <th>3</th>\n",
       "      <td>1</td>\n",
       "      <td>Toy Story (1995)</td>\n",
       "      <td>adventure animation children comedy fantasy</td>\n",
       "      <td>pixar fun</td>\n",
       "      <td>5.0</td>\n",
       "      <td>4.0</td>\n",
       "      <td>847434962.0</td>\n",
       "    </tr>\n",
       "    <tr>\n",
       "      <th>4</th>\n",
       "      <td>1</td>\n",
       "      <td>Toy Story (1995)</td>\n",
       "      <td>adventure animation children comedy fantasy</td>\n",
       "      <td>pixar fun</td>\n",
       "      <td>5.0</td>\n",
       "      <td>4.0</td>\n",
       "      <td>847434962.0</td>\n",
       "    </tr>\n",
       "  </tbody>\n",
       "</table>\n",
       "</div>"
      ],
      "text/plain": [
       "   movieId             title                                       genres  \\\n",
       "0        1  Toy Story (1995)  adventure animation children comedy fantasy   \n",
       "1        1  Toy Story (1995)  adventure animation children comedy fantasy   \n",
       "2        1  Toy Story (1995)  adventure animation children comedy fantasy   \n",
       "3        1  Toy Story (1995)  adventure animation children comedy fantasy   \n",
       "4        1  Toy Story (1995)  adventure animation children comedy fantasy   \n",
       "\n",
       "         tag  userId_x  rating  timestamp_x  \n",
       "0  pixar fun       1.0     4.0  964982703.0  \n",
       "1  pixar fun       1.0     4.0  964982703.0  \n",
       "2  pixar fun       1.0     4.0  964982703.0  \n",
       "3  pixar fun       5.0     4.0  847434962.0  \n",
       "4  pixar fun       5.0     4.0  847434962.0  "
      ]
     },
     "execution_count": 10,
     "metadata": {},
     "output_type": "execute_result"
    }
   ],
   "source": [
    "# соберем для каждого фильма все его теги\n",
    "Tag = {}\n",
    "for title, group in tqdm(data2.groupby('movieId')):\n",
    "    Tag[title] = ' '.join(group.tag.unique())\n",
    "\n",
    "data2['tag'] = data2['movieId'].apply(lambda x: Tag[x])\n",
    "\n",
    "\n",
    "data2.head()"
   ]
  },
  {
   "cell_type": "code",
   "execution_count": 11,
   "metadata": {},
   "outputs": [
    {
     "data": {
      "text/html": [
       "<div>\n",
       "<style scoped>\n",
       "    .dataframe tbody tr th:only-of-type {\n",
       "        vertical-align: middle;\n",
       "    }\n",
       "\n",
       "    .dataframe tbody tr th {\n",
       "        vertical-align: top;\n",
       "    }\n",
       "\n",
       "    .dataframe thead th {\n",
       "        text-align: right;\n",
       "    }\n",
       "</style>\n",
       "<table border=\"1\" class=\"dataframe\">\n",
       "  <thead>\n",
       "    <tr style=\"text-align: right;\">\n",
       "      <th></th>\n",
       "      <th>movieId</th>\n",
       "      <th>title</th>\n",
       "      <th>genres</th>\n",
       "      <th>tag</th>\n",
       "      <th>userId_x</th>\n",
       "      <th>rating</th>\n",
       "      <th>timestamp_x</th>\n",
       "    </tr>\n",
       "  </thead>\n",
       "  <tbody>\n",
       "    <tr>\n",
       "      <th>0</th>\n",
       "      <td>1</td>\n",
       "      <td>Toy Story (1995)</td>\n",
       "      <td>adventure animation children comedy fantasy</td>\n",
       "      <td>pixar fun</td>\n",
       "      <td>1.0</td>\n",
       "      <td>4.0</td>\n",
       "      <td>9.649827e+08</td>\n",
       "    </tr>\n",
       "    <tr>\n",
       "      <th>1</th>\n",
       "      <td>1</td>\n",
       "      <td>Toy Story (1995)</td>\n",
       "      <td>adventure animation children comedy fantasy</td>\n",
       "      <td>pixar fun</td>\n",
       "      <td>5.0</td>\n",
       "      <td>4.0</td>\n",
       "      <td>8.474350e+08</td>\n",
       "    </tr>\n",
       "    <tr>\n",
       "      <th>2</th>\n",
       "      <td>1</td>\n",
       "      <td>Toy Story (1995)</td>\n",
       "      <td>adventure animation children comedy fantasy</td>\n",
       "      <td>pixar fun</td>\n",
       "      <td>7.0</td>\n",
       "      <td>4.5</td>\n",
       "      <td>1.106636e+09</td>\n",
       "    </tr>\n",
       "    <tr>\n",
       "      <th>3</th>\n",
       "      <td>1</td>\n",
       "      <td>Toy Story (1995)</td>\n",
       "      <td>adventure animation children comedy fantasy</td>\n",
       "      <td>pixar fun</td>\n",
       "      <td>15.0</td>\n",
       "      <td>2.5</td>\n",
       "      <td>1.510578e+09</td>\n",
       "    </tr>\n",
       "    <tr>\n",
       "      <th>4</th>\n",
       "      <td>1</td>\n",
       "      <td>Toy Story (1995)</td>\n",
       "      <td>adventure animation children comedy fantasy</td>\n",
       "      <td>pixar fun</td>\n",
       "      <td>17.0</td>\n",
       "      <td>4.5</td>\n",
       "      <td>1.305696e+09</td>\n",
       "    </tr>\n",
       "  </tbody>\n",
       "</table>\n",
       "</div>"
      ],
      "text/plain": [
       "   movieId             title                                       genres  \\\n",
       "0        1  Toy Story (1995)  adventure animation children comedy fantasy   \n",
       "1        1  Toy Story (1995)  adventure animation children comedy fantasy   \n",
       "2        1  Toy Story (1995)  adventure animation children comedy fantasy   \n",
       "3        1  Toy Story (1995)  adventure animation children comedy fantasy   \n",
       "4        1  Toy Story (1995)  adventure animation children comedy fantasy   \n",
       "\n",
       "         tag  userId_x  rating   timestamp_x  \n",
       "0  pixar fun       1.0     4.0  9.649827e+08  \n",
       "1  pixar fun       5.0     4.0  8.474350e+08  \n",
       "2  pixar fun       7.0     4.5  1.106636e+09  \n",
       "3  pixar fun      15.0     2.5  1.510578e+09  \n",
       "4  pixar fun      17.0     4.5  1.305696e+09  "
      ]
     },
     "execution_count": 11,
     "metadata": {},
     "output_type": "execute_result"
    }
   ],
   "source": [
    "# удалим дубликаты\n",
    "\n",
    "data2 = data2.drop_duplicates(subset=['movieId', 'userId_x'], keep='first').reset_index(drop=True)\n",
    "data2.head()"
   ]
  },
  {
   "cell_type": "code",
   "execution_count": 12,
   "metadata": {},
   "outputs": [
    {
     "data": {
      "application/vnd.jupyter.widget-view+json": {
       "model_id": "f3c568bbe5ec45e2bc9a5945d070b41d",
       "version_major": 2,
       "version_minor": 0
      },
      "text/plain": [
       "HBox(children=(FloatProgress(value=0.0, max=1554.0), HTML(value='')))"
      ]
     },
     "metadata": {},
     "output_type": "display_data"
    },
    {
     "name": "stdout",
     "output_type": "stream",
     "text": [
      "\n"
     ]
    },
    {
     "data": {
      "application/vnd.jupyter.widget-view+json": {
       "model_id": "f645456b8a1946f5bdc5ad1219b25e48",
       "version_major": 2,
       "version_minor": 0
      },
      "text/plain": [
       "HBox(children=(FloatProgress(value=0.0, max=610.0), HTML(value='')))"
      ]
     },
     "metadata": {},
     "output_type": "display_data"
    },
    {
     "name": "stdout",
     "output_type": "stream",
     "text": [
      "\n"
     ]
    }
   ],
   "source": [
    "# добавим оценки (фичи)\n",
    "\n",
    "mean_film = {}   # средняя оценка за фильм\n",
    "for title, group in tqdm(data2.groupby('movieId')):\n",
    "    mean_film[title] = group.rating.mean()\n",
    "    \n",
    "mean_rating_user = {}  # средняя оценка пользователя\n",
    "for title, group in tqdm(data2.groupby('userId_x')):\n",
    "    mean_rating_user[title] = group.rating.mean()"
   ]
  },
  {
   "cell_type": "code",
   "execution_count": 13,
   "metadata": {},
   "outputs": [
    {
     "data": {
      "text/plain": [
       "(1, 329, 31.072715572715573)"
      ]
     },
     "execution_count": 13,
     "metadata": {},
     "output_type": "execute_result"
    }
   ],
   "source": [
    "# количество рейтингов по каждому фильму\n",
    "num_rating = {}\n",
    "\n",
    "for i, j in data2.groupby('movieId'):\n",
    "    num_rating[i] = j.userId_x.unique().shape[0]\n",
    "    \n",
    "# выведем статистику по количеству рейтингов\n",
    "min_num_rating = np.min([num_rating[i] for i in num_rating.keys()])\n",
    "max_num_rating = np.max(([num_rating[i] for i in num_rating.keys()]))\n",
    "mean_num_rating = np.mean(([num_rating[i] for i in num_rating.keys()]))\n",
    "min_num_rating, max_num_rating, mean_num_rating"
   ]
  },
  {
   "cell_type": "code",
   "execution_count": 14,
   "metadata": {},
   "outputs": [],
   "source": [
    "# выведем искомую статистику по каждому фильму (средний рейтинг в соответствии с размерностью рейтинга)\n",
    "score_film = {}\n",
    "\n",
    "for i in num_rating.keys():\n",
    "    score_film[i] = mean_film[i] * (num_rating[i] - min_num_rating) /  (max_num_rating - min_num_rating)\n",
    "    #score_film[i] = (mean_film[i]  - min_num_rating) /  (max_num_rating - min_num_rating)"
   ]
  },
  {
   "cell_type": "code",
   "execution_count": 15,
   "metadata": {
    "scrolled": true
   },
   "outputs": [
    {
     "data": {
      "text/plain": [
       "(4, 1198, 79.15901639344263)"
      ]
     },
     "execution_count": 15,
     "metadata": {},
     "output_type": "execute_result"
    }
   ],
   "source": [
    "# количество кликов по каждому пользователю\n",
    "num_click = {}\n",
    "\n",
    "for i, j in data2.groupby('userId_x'):\n",
    "    num_click[i] = j.movieId.unique().shape[0]\n",
    "    \n",
    "# выведем статистику по количеству кликов пользователя\n",
    "min_num_click = np.min([num_click[i] for i in num_click.keys()])\n",
    "max_num_click = np.max(([num_click[i] for i in num_click.keys()]))\n",
    "mean_num_click = np.mean(([num_click[i] for i in num_click.keys()]))\n",
    "min_num_click, max_num_click, mean_num_click"
   ]
  },
  {
   "cell_type": "code",
   "execution_count": 16,
   "metadata": {},
   "outputs": [],
   "source": [
    "# выведем искомую статистику по каждому пользователю (в соответствии с размерностью кликов)\n",
    "score_user = {}\n",
    "\n",
    "for i in num_click.keys():\n",
    "    score_user[i] = mean_rating_user[i] * (num_click[i] - min_num_click) /  (max_num_click - min_num_click)\n",
    "    #score_user[i] = (mean_rating_user[i]  - min_num_click) /  (max_num_click - min_num_click)"
   ]
  },
  {
   "cell_type": "code",
   "execution_count": 17,
   "metadata": {},
   "outputs": [
    {
     "data": {
      "text/html": [
       "<div>\n",
       "<style scoped>\n",
       "    .dataframe tbody tr th:only-of-type {\n",
       "        vertical-align: middle;\n",
       "    }\n",
       "\n",
       "    .dataframe tbody tr th {\n",
       "        vertical-align: top;\n",
       "    }\n",
       "\n",
       "    .dataframe thead th {\n",
       "        text-align: right;\n",
       "    }\n",
       "</style>\n",
       "<table border=\"1\" class=\"dataframe\">\n",
       "  <thead>\n",
       "    <tr style=\"text-align: right;\">\n",
       "      <th></th>\n",
       "      <th>movieId</th>\n",
       "      <th>title</th>\n",
       "      <th>genres</th>\n",
       "      <th>tag</th>\n",
       "      <th>userId_x</th>\n",
       "      <th>rating</th>\n",
       "      <th>timestamp_x</th>\n",
       "      <th>score_film</th>\n",
       "      <th>score_user</th>\n",
       "    </tr>\n",
       "  </thead>\n",
       "  <tbody>\n",
       "    <tr>\n",
       "      <th>0</th>\n",
       "      <td>1</td>\n",
       "      <td>Toy Story (1995)</td>\n",
       "      <td>adventure animation children comedy fantasy</td>\n",
       "      <td>pixar fun</td>\n",
       "      <td>1.0</td>\n",
       "      <td>4.0</td>\n",
       "      <td>9.649827e+08</td>\n",
       "      <td>2.558168</td>\n",
       "      <td>0.405683</td>\n",
       "    </tr>\n",
       "    <tr>\n",
       "      <th>1</th>\n",
       "      <td>1</td>\n",
       "      <td>Toy Story (1995)</td>\n",
       "      <td>adventure animation children comedy fantasy</td>\n",
       "      <td>pixar fun</td>\n",
       "      <td>5.0</td>\n",
       "      <td>4.0</td>\n",
       "      <td>8.474350e+08</td>\n",
       "      <td>2.558168</td>\n",
       "      <td>0.109737</td>\n",
       "    </tr>\n",
       "    <tr>\n",
       "      <th>2</th>\n",
       "      <td>1</td>\n",
       "      <td>Toy Story (1995)</td>\n",
       "      <td>adventure animation children comedy fantasy</td>\n",
       "      <td>pixar fun</td>\n",
       "      <td>7.0</td>\n",
       "      <td>4.5</td>\n",
       "      <td>1.106636e+09</td>\n",
       "      <td>2.558168</td>\n",
       "      <td>0.258228</td>\n",
       "    </tr>\n",
       "    <tr>\n",
       "      <th>3</th>\n",
       "      <td>1</td>\n",
       "      <td>Toy Story (1995)</td>\n",
       "      <td>adventure animation children comedy fantasy</td>\n",
       "      <td>pixar fun</td>\n",
       "      <td>15.0</td>\n",
       "      <td>2.5</td>\n",
       "      <td>1.510578e+09</td>\n",
       "      <td>2.558168</td>\n",
       "      <td>0.226759</td>\n",
       "    </tr>\n",
       "    <tr>\n",
       "      <th>4</th>\n",
       "      <td>1</td>\n",
       "      <td>Toy Story (1995)</td>\n",
       "      <td>adventure animation children comedy fantasy</td>\n",
       "      <td>pixar fun</td>\n",
       "      <td>17.0</td>\n",
       "      <td>4.5</td>\n",
       "      <td>1.305696e+09</td>\n",
       "      <td>2.558168</td>\n",
       "      <td>0.293872</td>\n",
       "    </tr>\n",
       "  </tbody>\n",
       "</table>\n",
       "</div>"
      ],
      "text/plain": [
       "   movieId             title                                       genres  \\\n",
       "0        1  Toy Story (1995)  adventure animation children comedy fantasy   \n",
       "1        1  Toy Story (1995)  adventure animation children comedy fantasy   \n",
       "2        1  Toy Story (1995)  adventure animation children comedy fantasy   \n",
       "3        1  Toy Story (1995)  adventure animation children comedy fantasy   \n",
       "4        1  Toy Story (1995)  adventure animation children comedy fantasy   \n",
       "\n",
       "         tag  userId_x  rating   timestamp_x  score_film  score_user  \n",
       "0  pixar fun       1.0     4.0  9.649827e+08    2.558168    0.405683  \n",
       "1  pixar fun       5.0     4.0  8.474350e+08    2.558168    0.109737  \n",
       "2  pixar fun       7.0     4.5  1.106636e+09    2.558168    0.258228  \n",
       "3  pixar fun      15.0     2.5  1.510578e+09    2.558168    0.226759  \n",
       "4  pixar fun      17.0     4.5  1.305696e+09    2.558168    0.293872  "
      ]
     },
     "execution_count": 17,
     "metadata": {},
     "output_type": "execute_result"
    }
   ],
   "source": [
    "data2['score_film'] = data2['movieId'].apply(lambda x: score_film[x])\n",
    "data2['score_user'] = data2['userId_x'].apply(lambda x: score_user[x])\n",
    "data2.head()"
   ]
  },
  {
   "cell_type": "code",
   "execution_count": 18,
   "metadata": {},
   "outputs": [],
   "source": [
    "# Tfidf\n",
    "tfidf1 = TfidfVectorizer()   # for genres\n",
    "tfidf2 = TfidfVectorizer()   # for tag"
   ]
  },
  {
   "cell_type": "code",
   "execution_count": 19,
   "metadata": {},
   "outputs": [
    {
     "data": {
      "text/plain": [
       "TfidfVectorizer()"
      ]
     },
     "execution_count": 19,
     "metadata": {},
     "output_type": "execute_result"
    }
   ],
   "source": [
    "tfidf1.fit([' '.join(data2['genres'])])\n",
    "tfidf2.fit([' '.join(data2['tag'])])"
   ]
  },
  {
   "cell_type": "code",
   "execution_count": 20,
   "metadata": {},
   "outputs": [
    {
     "data": {
      "text/html": [
       "<div>\n",
       "<style scoped>\n",
       "    .dataframe tbody tr th:only-of-type {\n",
       "        vertical-align: middle;\n",
       "    }\n",
       "\n",
       "    .dataframe tbody tr th {\n",
       "        vertical-align: top;\n",
       "    }\n",
       "\n",
       "    .dataframe thead th {\n",
       "        text-align: right;\n",
       "    }\n",
       "</style>\n",
       "<table border=\"1\" class=\"dataframe\">\n",
       "  <thead>\n",
       "    <tr style=\"text-align: right;\">\n",
       "      <th></th>\n",
       "      <th>movieId</th>\n",
       "      <th>title</th>\n",
       "      <th>genres</th>\n",
       "      <th>tag</th>\n",
       "      <th>userId_x</th>\n",
       "      <th>rating</th>\n",
       "      <th>timestamp_x</th>\n",
       "      <th>score_film</th>\n",
       "      <th>score_user</th>\n",
       "    </tr>\n",
       "  </thead>\n",
       "  <tbody>\n",
       "    <tr>\n",
       "      <th>0</th>\n",
       "      <td>1</td>\n",
       "      <td>Toy Story (1995)</td>\n",
       "      <td>[[0.0, 0.4472135954999579, 0.4472135954999579,...</td>\n",
       "      <td>[[0.0, 0.0, 0.0, 0.0, 0.0, 0.0, 0.0, 0.0, 0.0,...</td>\n",
       "      <td>1.0</td>\n",
       "      <td>4.0</td>\n",
       "      <td>9.649827e+08</td>\n",
       "      <td>2.558168</td>\n",
       "      <td>0.405683</td>\n",
       "    </tr>\n",
       "    <tr>\n",
       "      <th>1</th>\n",
       "      <td>1</td>\n",
       "      <td>Toy Story (1995)</td>\n",
       "      <td>[[0.0, 0.4472135954999579, 0.4472135954999579,...</td>\n",
       "      <td>[[0.0, 0.0, 0.0, 0.0, 0.0, 0.0, 0.0, 0.0, 0.0,...</td>\n",
       "      <td>5.0</td>\n",
       "      <td>4.0</td>\n",
       "      <td>8.474350e+08</td>\n",
       "      <td>2.558168</td>\n",
       "      <td>0.109737</td>\n",
       "    </tr>\n",
       "    <tr>\n",
       "      <th>2</th>\n",
       "      <td>1</td>\n",
       "      <td>Toy Story (1995)</td>\n",
       "      <td>[[0.0, 0.4472135954999579, 0.4472135954999579,...</td>\n",
       "      <td>[[0.0, 0.0, 0.0, 0.0, 0.0, 0.0, 0.0, 0.0, 0.0,...</td>\n",
       "      <td>7.0</td>\n",
       "      <td>4.5</td>\n",
       "      <td>1.106636e+09</td>\n",
       "      <td>2.558168</td>\n",
       "      <td>0.258228</td>\n",
       "    </tr>\n",
       "    <tr>\n",
       "      <th>3</th>\n",
       "      <td>1</td>\n",
       "      <td>Toy Story (1995)</td>\n",
       "      <td>[[0.0, 0.4472135954999579, 0.4472135954999579,...</td>\n",
       "      <td>[[0.0, 0.0, 0.0, 0.0, 0.0, 0.0, 0.0, 0.0, 0.0,...</td>\n",
       "      <td>15.0</td>\n",
       "      <td>2.5</td>\n",
       "      <td>1.510578e+09</td>\n",
       "      <td>2.558168</td>\n",
       "      <td>0.226759</td>\n",
       "    </tr>\n",
       "    <tr>\n",
       "      <th>4</th>\n",
       "      <td>1</td>\n",
       "      <td>Toy Story (1995)</td>\n",
       "      <td>[[0.0, 0.4472135954999579, 0.4472135954999579,...</td>\n",
       "      <td>[[0.0, 0.0, 0.0, 0.0, 0.0, 0.0, 0.0, 0.0, 0.0,...</td>\n",
       "      <td>17.0</td>\n",
       "      <td>4.5</td>\n",
       "      <td>1.305696e+09</td>\n",
       "      <td>2.558168</td>\n",
       "      <td>0.293872</td>\n",
       "    </tr>\n",
       "  </tbody>\n",
       "</table>\n",
       "</div>"
      ],
      "text/plain": [
       "   movieId             title  \\\n",
       "0        1  Toy Story (1995)   \n",
       "1        1  Toy Story (1995)   \n",
       "2        1  Toy Story (1995)   \n",
       "3        1  Toy Story (1995)   \n",
       "4        1  Toy Story (1995)   \n",
       "\n",
       "                                              genres  \\\n",
       "0  [[0.0, 0.4472135954999579, 0.4472135954999579,...   \n",
       "1  [[0.0, 0.4472135954999579, 0.4472135954999579,...   \n",
       "2  [[0.0, 0.4472135954999579, 0.4472135954999579,...   \n",
       "3  [[0.0, 0.4472135954999579, 0.4472135954999579,...   \n",
       "4  [[0.0, 0.4472135954999579, 0.4472135954999579,...   \n",
       "\n",
       "                                                 tag  userId_x  rating  \\\n",
       "0  [[0.0, 0.0, 0.0, 0.0, 0.0, 0.0, 0.0, 0.0, 0.0,...       1.0     4.0   \n",
       "1  [[0.0, 0.0, 0.0, 0.0, 0.0, 0.0, 0.0, 0.0, 0.0,...       5.0     4.0   \n",
       "2  [[0.0, 0.0, 0.0, 0.0, 0.0, 0.0, 0.0, 0.0, 0.0,...       7.0     4.5   \n",
       "3  [[0.0, 0.0, 0.0, 0.0, 0.0, 0.0, 0.0, 0.0, 0.0,...      15.0     2.5   \n",
       "4  [[0.0, 0.0, 0.0, 0.0, 0.0, 0.0, 0.0, 0.0, 0.0,...      17.0     4.5   \n",
       "\n",
       "    timestamp_x  score_film  score_user  \n",
       "0  9.649827e+08    2.558168    0.405683  \n",
       "1  8.474350e+08    2.558168    0.109737  \n",
       "2  1.106636e+09    2.558168    0.258228  \n",
       "3  1.510578e+09    2.558168    0.226759  \n",
       "4  1.305696e+09    2.558168    0.293872  "
      ]
     },
     "execution_count": 20,
     "metadata": {},
     "output_type": "execute_result"
    }
   ],
   "source": [
    "data2['genres'] = data2['genres'].apply(lambda x: tfidf1.transform([x]).toarray())\n",
    "data2['tag'] = data2['tag'].apply(lambda x: tfidf2.transform([x]).toarray())\n",
    "data2.head()"
   ]
  },
  {
   "cell_type": "code",
   "execution_count": 21,
   "metadata": {},
   "outputs": [
    {
     "data": {
      "text/html": [
       "<div>\n",
       "<style scoped>\n",
       "    .dataframe tbody tr th:only-of-type {\n",
       "        vertical-align: middle;\n",
       "    }\n",
       "\n",
       "    .dataframe tbody tr th {\n",
       "        vertical-align: top;\n",
       "    }\n",
       "\n",
       "    .dataframe thead th {\n",
       "        text-align: right;\n",
       "    }\n",
       "</style>\n",
       "<table border=\"1\" class=\"dataframe\">\n",
       "  <thead>\n",
       "    <tr style=\"text-align: right;\">\n",
       "      <th></th>\n",
       "      <th>movieId</th>\n",
       "      <th>title</th>\n",
       "      <th>genres</th>\n",
       "      <th>tag</th>\n",
       "      <th>userId_x</th>\n",
       "      <th>rating</th>\n",
       "      <th>timestamp_x</th>\n",
       "      <th>score_film</th>\n",
       "      <th>score_user</th>\n",
       "    </tr>\n",
       "  </thead>\n",
       "  <tbody>\n",
       "    <tr>\n",
       "      <th>0</th>\n",
       "      <td>162</td>\n",
       "      <td>Crumb (1994)</td>\n",
       "      <td>[[0.0, 0.0, 0.0, 0.0, 0.0, 0.0, 1.0, 0.0, 0.0,...</td>\n",
       "      <td>[[0.0, 0.0, 0.0, 0.0, 0.0, 0.0, 0.0, 0.0, 0.0,...</td>\n",
       "      <td>514.0</td>\n",
       "      <td>4.0</td>\n",
       "      <td>1.537799e+09</td>\n",
       "      <td>0.205165</td>\n",
       "      <td>0.576447</td>\n",
       "    </tr>\n",
       "    <tr>\n",
       "      <th>1</th>\n",
       "      <td>187595</td>\n",
       "      <td>Solo: A Star Wars Story (2018)</td>\n",
       "      <td>[[0.5, 0.5, 0.0, 0.5, 0.0, 0.0, 0.0, 0.0, 0.0,...</td>\n",
       "      <td>[[0.0, 0.0, 0.0, 0.0, 0.0, 0.0, 0.0, 0.0, 0.0,...</td>\n",
       "      <td>514.0</td>\n",
       "      <td>3.0</td>\n",
       "      <td>1.537675e+09</td>\n",
       "      <td>0.047561</td>\n",
       "      <td>0.576447</td>\n",
       "    </tr>\n",
       "    <tr>\n",
       "      <th>2</th>\n",
       "      <td>180031</td>\n",
       "      <td>The Shape of Water (2017)</td>\n",
       "      <td>[[0.0, 0.5773502691896258, 0.0, 0.0, 0.0, 0.0,...</td>\n",
       "      <td>[[0.0, 0.0, 0.0, 0.0, 0.0, 0.0, 0.0, 0.0, 0.0,...</td>\n",
       "      <td>210.0</td>\n",
       "      <td>4.0</td>\n",
       "      <td>1.537650e+09</td>\n",
       "      <td>0.078697</td>\n",
       "      <td>0.153249</td>\n",
       "    </tr>\n",
       "    <tr>\n",
       "      <th>3</th>\n",
       "      <td>122916</td>\n",
       "      <td>Thor: Ragnarok (2017)</td>\n",
       "      <td>[[0.5773502691896258, 0.5773502691896258, 0.0,...</td>\n",
       "      <td>[[0.0, 0.0, 0.0, 0.0, 0.0, 0.0, 0.0, 0.0, 0.0,...</td>\n",
       "      <td>210.0</td>\n",
       "      <td>4.5</td>\n",
       "      <td>1.537632e+09</td>\n",
       "      <td>0.233155</td>\n",
       "      <td>0.153249</td>\n",
       "    </tr>\n",
       "    <tr>\n",
       "      <th>4</th>\n",
       "      <td>148626</td>\n",
       "      <td>Big Short, The (2015)</td>\n",
       "      <td>[[0.0, 0.0, 0.0, 0.0, 0.0, 0.0, 0.0, 1.0, 0.0,...</td>\n",
       "      <td>[[0.0, 0.0, 0.0, 0.0, 0.0, 0.0, 0.0, 0.0, 0.0,...</td>\n",
       "      <td>272.0</td>\n",
       "      <td>4.5</td>\n",
       "      <td>1.537471e+09</td>\n",
       "      <td>0.301947</td>\n",
       "      <td>0.047906</td>\n",
       "    </tr>\n",
       "  </tbody>\n",
       "</table>\n",
       "</div>"
      ],
      "text/plain": [
       "   movieId                           title  \\\n",
       "0      162                    Crumb (1994)   \n",
       "1   187595  Solo: A Star Wars Story (2018)   \n",
       "2   180031       The Shape of Water (2017)   \n",
       "3   122916           Thor: Ragnarok (2017)   \n",
       "4   148626           Big Short, The (2015)   \n",
       "\n",
       "                                              genres  \\\n",
       "0  [[0.0, 0.0, 0.0, 0.0, 0.0, 0.0, 1.0, 0.0, 0.0,...   \n",
       "1  [[0.5, 0.5, 0.0, 0.5, 0.0, 0.0, 0.0, 0.0, 0.0,...   \n",
       "2  [[0.0, 0.5773502691896258, 0.0, 0.0, 0.0, 0.0,...   \n",
       "3  [[0.5773502691896258, 0.5773502691896258, 0.0,...   \n",
       "4  [[0.0, 0.0, 0.0, 0.0, 0.0, 0.0, 0.0, 1.0, 0.0,...   \n",
       "\n",
       "                                                 tag  userId_x  rating  \\\n",
       "0  [[0.0, 0.0, 0.0, 0.0, 0.0, 0.0, 0.0, 0.0, 0.0,...     514.0     4.0   \n",
       "1  [[0.0, 0.0, 0.0, 0.0, 0.0, 0.0, 0.0, 0.0, 0.0,...     514.0     3.0   \n",
       "2  [[0.0, 0.0, 0.0, 0.0, 0.0, 0.0, 0.0, 0.0, 0.0,...     210.0     4.0   \n",
       "3  [[0.0, 0.0, 0.0, 0.0, 0.0, 0.0, 0.0, 0.0, 0.0,...     210.0     4.5   \n",
       "4  [[0.0, 0.0, 0.0, 0.0, 0.0, 0.0, 0.0, 0.0, 0.0,...     272.0     4.5   \n",
       "\n",
       "    timestamp_x  score_film  score_user  \n",
       "0  1.537799e+09    0.205165    0.576447  \n",
       "1  1.537675e+09    0.047561    0.576447  \n",
       "2  1.537650e+09    0.078697    0.153249  \n",
       "3  1.537632e+09    0.233155    0.153249  \n",
       "4  1.537471e+09    0.301947    0.047906  "
      ]
     },
     "execution_count": 21,
     "metadata": {},
     "output_type": "execute_result"
    }
   ],
   "source": [
    "data2.sort_values('timestamp_x', ascending=False, inplace=True)\n",
    "data2 = data2.reset_index(drop=True)\n",
    "data2.head()"
   ]
  },
  {
   "cell_type": "code",
   "execution_count": 22,
   "metadata": {},
   "outputs": [
    {
     "data": {
      "text/plain": [
       "array([[4.        , 0.20516499, 0.57644681, ..., 0.        , 0.        ,\n",
       "        0.        ],\n",
       "       [3.        , 0.04756098, 0.57644681, ..., 0.        , 0.        ,\n",
       "        0.        ],\n",
       "       [4.        , 0.07869665, 0.15324851, ..., 0.        , 0.        ,\n",
       "        0.        ],\n",
       "       ...,\n",
       "       [4.        , 0.10759654, 0.0759799 , ..., 0.        , 0.        ,\n",
       "        0.        ],\n",
       "       [4.        , 0.1714939 , 0.0759799 , ..., 0.        , 0.        ,\n",
       "        0.        ],\n",
       "       [5.        , 1.66685809, 0.0759799 , ..., 0.        , 0.        ,\n",
       "        0.        ]])"
      ]
     },
     "execution_count": 22,
     "metadata": {},
     "output_type": "execute_result"
    }
   ],
   "source": [
    "tfidf_data = []\n",
    "for i, j in data2.iterrows():\n",
    "    tfidf_data.append(np.insert(np.hstack((j[2], j[3])), [0,0,0], [j[5], j[7], j[8]]).tolist())\n",
    "tfidf_data = np.array(tfidf_data)\n",
    "tfidf_data"
   ]
  },
  {
   "cell_type": "code",
   "execution_count": 23,
   "metadata": {},
   "outputs": [
    {
     "data": {
      "text/plain": [
       "array([[4.        , 0.20516499, 0.57644681, ..., 0.        , 0.        ,\n",
       "        0.        ],\n",
       "       [3.        , 0.04756098, 0.57644681, ..., 0.        , 0.        ,\n",
       "        0.        ],\n",
       "       [4.        , 0.07869665, 0.15324851, ..., 0.        , 0.        ,\n",
       "        0.        ],\n",
       "       ...,\n",
       "       [4.        , 0.10759654, 0.0759799 , ..., 0.        , 0.        ,\n",
       "        0.        ],\n",
       "       [4.        , 0.1714939 , 0.0759799 , ..., 0.        , 0.        ,\n",
       "        0.        ],\n",
       "       [5.        , 1.66685809, 0.0759799 , ..., 0.        , 0.        ,\n",
       "        0.        ]])"
      ]
     },
     "execution_count": 23,
     "metadata": {},
     "output_type": "execute_result"
    }
   ],
   "source": [
    "complexs_data = []\n",
    "for i, j in data2.iterrows():\n",
    "    complexs_data.append(np.insert(np.hstack((j[2], j[3])), [0,0,0], [j[5], j[7], j[8]]).tolist())\n",
    "complexs_data = np.array(complexs_data)\n",
    "complexs_data"
   ]
  },
  {
   "cell_type": "code",
   "execution_count": 24,
   "metadata": {},
   "outputs": [
    {
     "data": {
      "text/html": [
       "<div>\n",
       "<style scoped>\n",
       "    .dataframe tbody tr th:only-of-type {\n",
       "        vertical-align: middle;\n",
       "    }\n",
       "\n",
       "    .dataframe tbody tr th {\n",
       "        vertical-align: top;\n",
       "    }\n",
       "\n",
       "    .dataframe thead th {\n",
       "        text-align: right;\n",
       "    }\n",
       "</style>\n",
       "<table border=\"1\" class=\"dataframe\">\n",
       "  <thead>\n",
       "    <tr style=\"text-align: right;\">\n",
       "      <th></th>\n",
       "      <th>movieId</th>\n",
       "      <th>title</th>\n",
       "      <th>genres</th>\n",
       "      <th>tag</th>\n",
       "      <th>userId_x</th>\n",
       "      <th>rating</th>\n",
       "      <th>timestamp_x</th>\n",
       "      <th>score_film</th>\n",
       "      <th>score_user</th>\n",
       "    </tr>\n",
       "  </thead>\n",
       "  <tbody>\n",
       "    <tr>\n",
       "      <th>0</th>\n",
       "      <td>780</td>\n",
       "      <td>Independence Day (a.k.a. ID4) (1996)</td>\n",
       "      <td>[[0.5, 0.5, 0.0, 0.0, 0.0, 0.0, 0.0, 0.0, 0.0,...</td>\n",
       "      <td>[[0.0, 0.0, 0.0, 0.0, 0.0, 0.0, 0.0, 0.0, 0.0,...</td>\n",
       "      <td>1.0</td>\n",
       "      <td>3.0</td>\n",
       "      <td>964984086.0</td>\n",
       "      <td>2.111447</td>\n",
       "      <td>0.405683</td>\n",
       "    </tr>\n",
       "    <tr>\n",
       "      <th>1</th>\n",
       "      <td>1090</td>\n",
       "      <td>Platoon (1986)</td>\n",
       "      <td>[[0.0, 0.0, 0.0, 0.0, 0.0, 0.0, 0.0, 0.7071067...</td>\n",
       "      <td>[[0.0, 0.0, 0.0, 0.0, 0.0, 0.0, 0.0, 0.0, 0.0,...</td>\n",
       "      <td>1.0</td>\n",
       "      <td>4.0</td>\n",
       "      <td>964984018.0</td>\n",
       "      <td>0.753097</td>\n",
       "      <td>0.405683</td>\n",
       "    </tr>\n",
       "    <tr>\n",
       "      <th>2</th>\n",
       "      <td>1224</td>\n",
       "      <td>Henry V (1989)</td>\n",
       "      <td>[[0.5, 0.0, 0.0, 0.0, 0.0, 0.0, 0.0, 0.5, 0.0,...</td>\n",
       "      <td>[[0.0, 0.0, 0.0, 0.0, 0.0, 0.0, 0.0, 0.0, 0.0,...</td>\n",
       "      <td>1.0</td>\n",
       "      <td>5.0</td>\n",
       "      <td>964984018.0</td>\n",
       "      <td>0.219512</td>\n",
       "      <td>0.405683</td>\n",
       "    </tr>\n",
       "    <tr>\n",
       "      <th>3</th>\n",
       "      <td>527</td>\n",
       "      <td>Schindler's List (1993)</td>\n",
       "      <td>[[0.0, 0.0, 0.0, 0.0, 0.0, 0.0, 0.0, 0.7071067...</td>\n",
       "      <td>[[0.0, 0.0, 0.0, 0.0, 0.0, 0.0, 0.0, 0.0, 0.0,...</td>\n",
       "      <td>1.0</td>\n",
       "      <td>5.0</td>\n",
       "      <td>964984002.0</td>\n",
       "      <td>2.820960</td>\n",
       "      <td>0.405683</td>\n",
       "    </tr>\n",
       "    <tr>\n",
       "      <th>4</th>\n",
       "      <td>3147</td>\n",
       "      <td>Green Mile, The (1999)</td>\n",
       "      <td>[[0.0, 0.0, 0.0, 0.0, 0.0, 0.7071067811865475,...</td>\n",
       "      <td>[[0.0, 0.0, 0.0, 0.0, 0.0, 0.0, 0.0, 0.0, 0.0,...</td>\n",
       "      <td>1.0</td>\n",
       "      <td>5.0</td>\n",
       "      <td>964983873.0</td>\n",
       "      <td>1.391315</td>\n",
       "      <td>0.405683</td>\n",
       "    </tr>\n",
       "  </tbody>\n",
       "</table>\n",
       "</div>"
      ],
      "text/plain": [
       "   movieId                                 title  \\\n",
       "0      780  Independence Day (a.k.a. ID4) (1996)   \n",
       "1     1090                        Platoon (1986)   \n",
       "2     1224                        Henry V (1989)   \n",
       "3      527               Schindler's List (1993)   \n",
       "4     3147                Green Mile, The (1999)   \n",
       "\n",
       "                                              genres  \\\n",
       "0  [[0.5, 0.5, 0.0, 0.0, 0.0, 0.0, 0.0, 0.0, 0.0,...   \n",
       "1  [[0.0, 0.0, 0.0, 0.0, 0.0, 0.0, 0.0, 0.7071067...   \n",
       "2  [[0.5, 0.0, 0.0, 0.0, 0.0, 0.0, 0.0, 0.5, 0.0,...   \n",
       "3  [[0.0, 0.0, 0.0, 0.0, 0.0, 0.0, 0.0, 0.7071067...   \n",
       "4  [[0.0, 0.0, 0.0, 0.0, 0.0, 0.7071067811865475,...   \n",
       "\n",
       "                                                 tag  userId_x  rating  \\\n",
       "0  [[0.0, 0.0, 0.0, 0.0, 0.0, 0.0, 0.0, 0.0, 0.0,...       1.0     3.0   \n",
       "1  [[0.0, 0.0, 0.0, 0.0, 0.0, 0.0, 0.0, 0.0, 0.0,...       1.0     4.0   \n",
       "2  [[0.0, 0.0, 0.0, 0.0, 0.0, 0.0, 0.0, 0.0, 0.0,...       1.0     5.0   \n",
       "3  [[0.0, 0.0, 0.0, 0.0, 0.0, 0.0, 0.0, 0.0, 0.0,...       1.0     5.0   \n",
       "4  [[0.0, 0.0, 0.0, 0.0, 0.0, 0.0, 0.0, 0.0, 0.0,...       1.0     5.0   \n",
       "\n",
       "   timestamp_x  score_film  score_user  \n",
       "0  964984086.0    2.111447    0.405683  \n",
       "1  964984018.0    0.753097    0.405683  \n",
       "2  964984018.0    0.219512    0.405683  \n",
       "3  964984002.0    2.820960    0.405683  \n",
       "4  964983873.0    1.391315    0.405683  "
      ]
     },
     "execution_count": 24,
     "metadata": {},
     "output_type": "execute_result"
    }
   ],
   "source": [
    "user = 1\n",
    "\n",
    "data_user = data2[data2.userId_x == user].reset_index(drop=True)   # датасет для пользователя\n",
    "data_user.head()"
   ]
  },
  {
   "cell_type": "code",
   "execution_count": 25,
   "metadata": {
    "scrolled": true
   },
   "outputs": [
    {
     "data": {
      "text/plain": [
       "array([[3.        , 2.11144651, 0.40568339, ..., 0.        , 0.        ,\n",
       "        0.        ],\n",
       "       [4.        , 0.75309717, 0.40568339, ..., 0.        , 0.        ,\n",
       "        0.        ],\n",
       "       [5.        , 0.2195122 , 0.40568339, ..., 0.        , 0.        ,\n",
       "        0.        ],\n",
       "       ...,\n",
       "       [5.        , 2.02915172, 0.40568339, ..., 0.        , 0.        ,\n",
       "        0.        ],\n",
       "       [4.        , 1.31674652, 0.40568339, ..., 0.        , 0.        ,\n",
       "        0.        ],\n",
       "       [5.        , 2.45994587, 0.40568339, ..., 0.        , 0.        ,\n",
       "        0.        ]])"
      ]
     },
     "execution_count": 25,
     "metadata": {},
     "output_type": "execute_result"
    }
   ],
   "source": [
    "complexs_user = []\n",
    "for i, j in data_user.iterrows():\n",
    "    complexs_user.append(np.insert(np.hstack((j[2], j[3])), [0,0,0], [j[5], j[7], j[8]]).tolist())\n",
    "complexs_user = np.array(complexs_user)\n",
    "complexs_user"
   ]
  },
  {
   "cell_type": "code",
   "execution_count": 26,
   "metadata": {},
   "outputs": [],
   "source": [
    "dataset = pd.DataFrame({\n",
    "    'uid': data2.userId_x,\n",
    "    'iid': data2.title,\n",
    "    'rating': data2.rating\n",
    "})"
   ]
  },
  {
   "cell_type": "code",
   "execution_count": 27,
   "metadata": {},
   "outputs": [],
   "source": [
    "reader = Reader(rating_scale=(0.5, 5.0))\n",
    "data = Dataset.load_from_df(dataset, reader)"
   ]
  },
  {
   "cell_type": "code",
   "execution_count": 28,
   "metadata": {},
   "outputs": [],
   "source": [
    "trainset, testset = train_test_split(data, test_size=.15, random_state=42)"
   ]
  },
  {
   "cell_type": "code",
   "execution_count": 29,
   "metadata": {},
   "outputs": [
    {
     "name": "stdout",
     "output_type": "stream",
     "text": [
      "Wall time: 789 ms\n"
     ]
    },
    {
     "data": {
      "text/plain": [
       "<surprise.prediction_algorithms.matrix_factorization.SVD at 0x2530c7280d0>"
      ]
     },
     "execution_count": 29,
     "metadata": {},
     "output_type": "execute_result"
    }
   ],
   "source": [
    "%%time\n",
    "algo = SVD(n_factors=20, n_epochs=20)\n",
    "algo.fit(trainset)"
   ]
  },
  {
   "cell_type": "code",
   "execution_count": 30,
   "metadata": {},
   "outputs": [],
   "source": [
    "test_pred = algo.test(testset)"
   ]
  },
  {
   "cell_type": "code",
   "execution_count": 31,
   "metadata": {},
   "outputs": [
    {
     "name": "stdout",
     "output_type": "stream",
     "text": [
      "RMSE: 0.8278\n"
     ]
    },
    {
     "data": {
      "text/plain": [
       "0.8277925634835079"
      ]
     },
     "execution_count": 31,
     "metadata": {},
     "output_type": "execute_result"
    }
   ],
   "source": [
    "accuracy.rmse(test_pred, verbose=True)"
   ]
  },
  {
   "cell_type": "code",
   "execution_count": 32,
   "metadata": {},
   "outputs": [
    {
     "data": {
      "text/plain": [
       "{'Casablanca (1942)': 5.0,\n",
       " 'Godfather, The (1972)': 5.0,\n",
       " 'Ran (1985)': 5.0,\n",
       " 'Lawrence of Arabia (1962)': 5.0,\n",
       " 'Shawshank Redemption, The (1994)': 5.0,\n",
       " 'Great Escape, The (1963)': 5.0,\n",
       " 'Philadelphia Story, The (1940)': 5.0,\n",
       " 'Cool Hand Luke (1967)': 4.97587349008514,\n",
       " 'Rear Window (1954)': 4.971774814589966,\n",
       " 'In the Name of the Father (1993)': 4.9701306130552005}"
      ]
     },
     "execution_count": 32,
     "metadata": {},
     "output_type": "execute_result"
    }
   ],
   "source": [
    "sco = []\n",
    "tit = []\n",
    "f = {}\n",
    "\n",
    "for m in data2.title.unique():\n",
    "    if m in data_user.title.unique().tolist():\n",
    "        continue\n",
    "        \n",
    "    sco.append(algo.predict(uid=user, iid=m).est)\n",
    "    tit.append(m)\n",
    "\n",
    "best = np.argsort(sco)[-10:]\n",
    "for i in reversed(best):\n",
    "    f[tit[i]] = sco[i]\n",
    "\n",
    "f\n",
    "\n",
    "#r = {}\n",
    "#b_i = np.argsort(sco)[:10]\n",
    "#b_m = [(tit[i], sco[i]) for i in b_i]\n",
    "#for i in b_m:\n",
    "    #r[i[0]] = i[1] \n",
    "#r"
   ]
  },
  {
   "cell_type": "code",
   "execution_count": 33,
   "metadata": {},
   "outputs": [],
   "source": [
    "if np.max(data_user.rating.unique().tolist()) >= 4.0:\n",
    "    user_films = data_user.sort_values('rating', ascending=False).head(3).title.tolist()   # три лучших фильма у пользователя\n",
    "else:\n",
    "    user_films = []"
   ]
  },
  {
   "cell_type": "code",
   "execution_count": 34,
   "metadata": {},
   "outputs": [
    {
     "data": {
      "text/plain": [
       "['Who Framed Roger Rabbit? (1988)',\n",
       " 'Jungle Book, The (1967)',\n",
       " 'Fugitive, The (1993)']"
      ]
     },
     "execution_count": 34,
     "metadata": {},
     "output_type": "execute_result"
    }
   ],
   "source": [
    "user_films"
   ]
  },
  {
   "cell_type": "code",
   "execution_count": 35,
   "metadata": {},
   "outputs": [
    {
     "data": {
      "text/plain": [
       "{'Lady and the Tramp (1955)': 4.123758758097187}"
      ]
     },
     "execution_count": 35,
     "metadata": {},
     "output_type": "execute_result"
    }
   ],
   "source": [
    "if len(user_films) == 0:\n",
    "    film = {}\n",
    "\n",
    "else:\n",
    "    mov_score = np.array([])\n",
    "    for i in range(len(user_films)):\n",
    "        index = data_user[data_user.title == user_films[i]].index.item()\n",
    "        test = complexs_user[index].reshape(1,-1)\n",
    "                \n",
    "        neigh = NearestNeighbors(n_neighbors=20, n_jobs=-1, metric='euclidean')\n",
    "        neigh.fit(complexs_data)\n",
    "        res = neigh.kneighbors(test, return_distance=True)\n",
    "        mov_score = np.concatenate((mov_score, data2.iloc[res[1][0]].title.unique()), axis=0)\n",
    "\n",
    "    scores = []\n",
    "    titles = []\n",
    "\n",
    "    for mov in mov_score:\n",
    "        if mov in data_user.title.unique():\n",
    "            continue\n",
    "        scores.append(algo.predict(uid=user, iid=mov).est)\n",
    "        titles.append(mov)\n",
    "\n",
    "    film = {}\n",
    "    \n",
    "    #best_i = np.argsort(scores)[-10:]\n",
    "    #for i in reversed(best_i):\n",
    "        #film[titles[i]] = scores[i]\n",
    "    \n",
    "    best_i = np.argsort(scores)[:10]\n",
    "    best_m = [(titles[i], scores[i]) for i in best_i]\n",
    "    for i in best_m:\n",
    "        film[i[0]] = i[1]    \n",
    "    \n",
    "film"
   ]
  },
  {
   "cell_type": "code",
   "execution_count": 36,
   "metadata": {},
   "outputs": [
    {
     "data": {
      "text/plain": [
       "array(['Who Framed Roger Rabbit? (1988)', 'Jungle Book, The (1967)',\n",
       "       'Fantasia (1940)', 'Pinocchio (1940)', 'Lady and the Tramp (1955)',\n",
       "       'Fugitive, The (1993)'], dtype=object)"
      ]
     },
     "execution_count": 36,
     "metadata": {},
     "output_type": "execute_result"
    }
   ],
   "source": [
    "mov_score"
   ]
  },
  {
   "cell_type": "code",
   "execution_count": 37,
   "metadata": {},
   "outputs": [
    {
     "data": {
      "application/vnd.jupyter.widget-view+json": {
       "model_id": "5a1f01a0a9de46aeb550c7d5e16a83d6",
       "version_major": 2,
       "version_minor": 0
      },
      "text/plain": [
       "HBox(children=(FloatProgress(value=0.0, max=1554.0), HTML(value='')))"
      ]
     },
     "metadata": {},
     "output_type": "display_data"
    },
    {
     "name": "stdout",
     "output_type": "stream",
     "text": [
      "\n"
     ]
    }
   ],
   "source": [
    "num_users = data2.userId_x.unique().shape[0]\n",
    "\n",
    "movie_vector = {}\n",
    "\n",
    "for movie, group in tqdm(data2.groupby('title')):\n",
    "    movie_vector[movie] = np.zeros(num_users)\n",
    "        \n",
    "    for i in range(len(group.userId_x.values)):\n",
    "        u = group.userId_x.values[i]\n",
    "        r = group.rating.values[i]\n",
    "        movie_vector[movie][int(u-1)] = r"
   ]
  },
  {
   "cell_type": "code",
   "execution_count": 38,
   "metadata": {},
   "outputs": [
    {
     "data": {
      "application/vnd.jupyter.widget-view+json": {
       "model_id": "6a1619a2eefb48898b0561375efaafda",
       "version_major": 2,
       "version_minor": 0
      },
      "text/plain": [
       "HBox(children=(FloatProgress(value=0.0, max=1554.0), HTML(value='')))"
      ]
     },
     "metadata": {},
     "output_type": "display_data"
    },
    {
     "name": "stdout",
     "output_type": "stream",
     "text": [
      "\n"
     ]
    },
    {
     "data": {
      "text/plain": [
       "{'Clear and Present Danger (1994)': 0.4114144689563516,\n",
       " 'True Lies (1994)': 0.4428066751788652,\n",
       " 'Dumbo (1941)': 0.4590453714454712,\n",
       " 'Crimson Tide (1995)': 0.4801573548838096,\n",
       " 'Speed (1994)': 0.487839048301281,\n",
       " 'Jurassic Park (1993)': 0.49480190289626336,\n",
       " 'Indiana Jones and the Temple of Doom (1984)': 0.4972646185341987,\n",
       " 'Crocodile Dundee (1986)': 0.49974376714152247,\n",
       " 'In the Line of Fire (1993)': 0.5048383674937602,\n",
       " 'Firm, The (1993)': 0.5063173791198367}"
      ]
     },
     "execution_count": 38,
     "metadata": {},
     "output_type": "execute_result"
    }
   ],
   "source": [
    "titles = []\n",
    "distances = []\n",
    "\n",
    "for key in tqdm(movie_vector.keys()):\n",
    "    if key in user_films:\n",
    "        continue\n",
    "    \n",
    "    titles.append(key)\n",
    "    distances.append(correlation(movie_vector[user_films[0]], movie_vector[key]))\n",
    "    titles.append(key)\n",
    "    distances.append(correlation(movie_vector[user_films[1]], movie_vector[key]))\n",
    "    titles.append(key)\n",
    "    distances.append(correlation(movie_vector[user_films[2]], movie_vector[key]))\n",
    "    \n",
    "best_indexes = np.argsort(distances)[:10]\n",
    "#print(titles)\n",
    "\n",
    "fi = {}\n",
    "best_movies = [(titles[i], distances[i]) for i in best_indexes]\n",
    "for i in best_movies:\n",
    "    fi[i[0]] = i[1]\n",
    "fi"
   ]
  },
  {
   "cell_type": "code",
   "execution_count": 39,
   "metadata": {},
   "outputs": [],
   "source": [
    "f_list = [i for i in f.keys()]\n",
    "film_list = [i for i in film.keys()]\n",
    "fi_list = [i for i in fi.keys()]"
   ]
  },
  {
   "cell_type": "code",
   "execution_count": 40,
   "metadata": {},
   "outputs": [],
   "source": [
    "# f, film, fi\n",
    "recom = []\n",
    "for i in range(10):\n",
    "    try:\n",
    "        recom.append(f_list[i])\n",
    "        recom.append(fi_list[i])\n",
    "        recom.append(film_list[i])    \n",
    "    except:\n",
    "        recom \n",
    "        "
   ]
  },
  {
   "cell_type": "code",
   "execution_count": 41,
   "metadata": {},
   "outputs": [
    {
     "data": {
      "text/plain": [
       "['Casablanca (1942)',\n",
       " 'Clear and Present Danger (1994)',\n",
       " 'Lady and the Tramp (1955)',\n",
       " 'Godfather, The (1972)',\n",
       " 'True Lies (1994)',\n",
       " 'Ran (1985)',\n",
       " 'Dumbo (1941)',\n",
       " 'Lawrence of Arabia (1962)',\n",
       " 'Crimson Tide (1995)',\n",
       " 'Shawshank Redemption, The (1994)',\n",
       " 'Speed (1994)',\n",
       " 'Great Escape, The (1963)',\n",
       " 'Jurassic Park (1993)',\n",
       " 'Philadelphia Story, The (1940)',\n",
       " 'Indiana Jones and the Temple of Doom (1984)',\n",
       " 'Cool Hand Luke (1967)',\n",
       " 'Crocodile Dundee (1986)',\n",
       " 'Rear Window (1954)',\n",
       " 'In the Line of Fire (1993)',\n",
       " 'In the Name of the Father (1993)',\n",
       " 'Firm, The (1993)']"
      ]
     },
     "execution_count": 41,
     "metadata": {},
     "output_type": "execute_result"
    }
   ],
   "source": [
    "recom"
   ]
  },
  {
   "cell_type": "code",
   "execution_count": 42,
   "metadata": {},
   "outputs": [
    {
     "data": {
      "text/plain": [
       "['Casablanca (1942)',\n",
       " 'Clear and Present Danger (1994)',\n",
       " 'Lady and the Tramp (1955)',\n",
       " 'Godfather, The (1972)',\n",
       " 'True Lies (1994)',\n",
       " 'Ran (1985)',\n",
       " 'Dumbo (1941)',\n",
       " 'Lawrence of Arabia (1962)',\n",
       " 'Crimson Tide (1995)',\n",
       " 'Shawshank Redemption, The (1994)',\n",
       " 'Speed (1994)',\n",
       " 'Great Escape, The (1963)',\n",
       " 'Jurassic Park (1993)',\n",
       " 'Philadelphia Story, The (1940)',\n",
       " 'Indiana Jones and the Temple of Doom (1984)',\n",
       " 'Cool Hand Luke (1967)',\n",
       " 'Crocodile Dundee (1986)',\n",
       " 'Rear Window (1954)',\n",
       " 'In the Line of Fire (1993)',\n",
       " 'In the Name of the Father (1993)',\n",
       " 'Firm, The (1993)']"
      ]
     },
     "execution_count": 42,
     "metadata": {},
     "output_type": "execute_result"
    }
   ],
   "source": [
    "recom_drop_dubl = list(dict.fromkeys(recom))   # уберем дубликаты из списка\n",
    "recom_drop_dubl"
   ]
  },
  {
   "cell_type": "code",
   "execution_count": 43,
   "metadata": {},
   "outputs": [
    {
     "data": {
      "text/plain": [
       "['Casablanca (1942)',\n",
       " 'Clear and Present Danger (1994)',\n",
       " 'Lady and the Tramp (1955)',\n",
       " 'Godfather, The (1972)',\n",
       " 'True Lies (1994)',\n",
       " 'Ran (1985)',\n",
       " 'Dumbo (1941)',\n",
       " 'Lawrence of Arabia (1962)',\n",
       " 'Crimson Tide (1995)',\n",
       " 'Shawshank Redemption, The (1994)']"
      ]
     },
     "execution_count": 43,
     "metadata": {},
     "output_type": "execute_result"
    }
   ],
   "source": [
    "itog_recom = recom_drop_dubl[:10]\n",
    "itog_recom"
   ]
  },
  {
   "cell_type": "code",
   "execution_count": null,
   "metadata": {},
   "outputs": [],
   "source": []
  }
 ],
 "metadata": {
  "kernelspec": {
   "display_name": "Python 3",
   "language": "python",
   "name": "python3"
  },
  "language_info": {
   "codemirror_mode": {
    "name": "ipython",
    "version": 3
   },
   "file_extension": ".py",
   "mimetype": "text/x-python",
   "name": "python",
   "nbconvert_exporter": "python",
   "pygments_lexer": "ipython3",
   "version": "3.8.3"
  }
 },
 "nbformat": 4,
 "nbformat_minor": 4
}
